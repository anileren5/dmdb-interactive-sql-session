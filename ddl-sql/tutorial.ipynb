{
 "cells": [
  {
   "cell_type": "markdown",
   "metadata": {},
   "source": [
    "# Data Definition Language (DDL)"
   ]
  },
  {
   "cell_type": "markdown",
   "metadata": {},
   "source": [
    "## 1. What is DDL?\n",
    "---"
   ]
  },
  {
   "cell_type": "markdown",
   "metadata": {},
   "source": [
    "DDL is a subset of SQL. Up until now you have only been reading data from different tables in the database. \n",
    "This is just the R in CRUD (Create, Read, Update, Delete). \n",
    "\n",
    "Data Definition Language enables:\n",
    "* The creation of tables -- (Create)\n",
    "* The insertion of data -- (Create)\n",
    "* Altering tables -- (Update)\n",
    "* Updating data -- (Update)\n",
    "* Dropping tables -- (Delete)\n",
    "* Deleting data -- (Delete)\n",
    "\n",
    "\n"
   ]
  },
  {
   "cell_type": "code",
   "execution_count": null,
   "metadata": {},
   "outputs": [],
   "source": [
    "# Imports\n",
    "from tabulate import tabulate\n",
    "import mysql.connector"
   ]
  },
  {
   "cell_type": "code",
   "execution_count": 6,
   "metadata": {},
   "outputs": [],
   "source": [
    "# Database connection parameters\n",
    "dbname = 'webshop_db'\n",
    "user = 'user'\n",
    "password = 'user_password'\n",
    "host = 'mysql_db'  # This should be the service name defined in docker-compose.yml\n",
    "port = '3306'  "
   ]
  },
  {
   "cell_type": "code",
   "execution_count": 62,
   "metadata": {},
   "outputs": [],
   "source": [
    "# Establish connection to the MySQL database\n",
    "conn = mysql.connector.connect(user=user, password=password, host=host, port=port, database=dbname)\n",
    "\n",
    "# Create a cursor object to interact with the database\n",
    "cur = conn.cursor()"
   ]
  },
  {
   "cell_type": "markdown",
   "metadata": {},
   "source": [
    "## Create\n",
    "---\n",
    "We start of with a completely empty database"
   ]
  },
  {
   "cell_type": "code",
   "execution_count": 58,
   "metadata": {},
   "outputs": [
    {
     "name": "stdout",
     "output_type": "stream",
     "text": [
      "+------------------------+\n",
      "| Tables_in_webshop_db   |\n",
      "+========================+\n",
      "| products               |\n",
      "+------------------------+\n"
     ]
    }
   ],
   "source": [
    "cur.execute(\"SHOW TABLES;\")\n",
    "\n",
    "records = cur.fetchall()\n",
    "\n",
    "# Fetch column names\n",
    "col_names = [desc[0] for desc in cur.description]\n",
    "\n",
    "# Print the records in table format\n",
    "print(tabulate(records, headers=col_names, tablefmt=\"grid\"))"
   ]
  },
  {
   "cell_type": "markdown",
   "metadata": {},
   "source": [
    "Of course an empty database is useless. We aim to create a database for a webshop, thus we would like to store our products in the databse. However, before we can insert our products we need to create a schema (table).\n",
    "\n",
    "Creating a table is done using the following SQL:\n",
    "```SQL\n",
    "CREATE TABLE table_name (\n",
    "    col_1 data_type_1 optional_constraint_1,\n",
    "    col_2 data_type_2 optional_constraint_2,\n",
    "    col_3 data_type_3 optional_constraint_3,\n",
    "    ...\n",
    "    multi_column_constraint\n",
    ");\n",
    "```\n",
    "\n",
    "The first parameters are simple: `table_name` will be the name of your table in the database and `col_i` the name of the columns. The `data_type_i`, `optional_constraint_i`, and `multi_column_constraint` fields require more thought however."
   ]
  },
  {
   "cell_type": "markdown",
   "metadata": {},
   "source": [
    "### Data Types\n",
    "\n",
    "We introduce some of the most essential data types (in MySQL) here:\n",
    "\n",
    "**Numeric**\n",
    "* Integers: they come in different sizes from `TINYINT` (1 Bytes), `SMALLINT` (2 Bytes), `MEDIUMINT` (3 Bytes), `INT` (4 Bytes), to `BIGINT` (8 Bytes)\n",
    "* Floating Point: should be familier from other programming languages, namely `FLOAT` and `DOUBLE`\n",
    "* Fixed point: unlike floating point numbers, the number of digits to the left and right of the point is fixed in data type `DECIMAL(M,D)`. This is a parameterised data type where `M` is the total number of digits and `D` the number of digits after the decimal point.\n",
    "\n",
    "You will sometimes also see data types like `INT` parameterised as `INT(11)`. The number here indicates the number of digits that are displayed back to the user when querying the data, but does not affect the range of values that can be stored. Moreover we can also add the `UNSIGNED` keyword after to ensure the numbers are positive\n",
    "\n",
    "**Strings**\n",
    "* `CHAR(M)`: stores `M` characters. If fewer than `M` characters are provided, the string will be padded and if more are provided the string will be truncated\n",
    "* `VARCHAR(M)`: stores any number of characters up to `M`. If more characters are inserted, the string will be truncated.\n",
    "* `BLOB/TEXT`: used to store *large* data. `BLOB` stores binary data, whereas `TEXT` is used to store large strings\n",
    "* `ENUM('A','B','C')`: just like in other programming languages, this allows the storage of only a set number of different strings.\n",
    "\n",
    "**Date & Time**\n",
    "* `DATE`: stores a date in 'YYYY-MM-DD'\n",
    "* `DATETIME`: stores a date together with a time on that day in 'YYYY-MM-DD hh:mm:ss'\n",
    "* `TIMESTAMP`: stores the time as the number of seconds since January 1st 1970\n",
    "\n",
    "**Others**\n",
    "* JSON\n",
    "* Spatial Data\n",
    "\n",
    "Note that the exact data types and how they are stored may differ per DBMS. For example, the `ENUM` type does not exist in PostgreSQL."
   ]
  },
  {
   "cell_type": "markdown",
   "metadata": {},
   "source": [
    "## Constraints\n",
    "\n",
    "We introduce some of the most essential constraints (in MySQL) here:\n",
    "* `PRIMARY KEY`: used to set a column as the primary key\n",
    "* `UNIQUE`: used to ensure that all values in the column are unique\n",
    "* `NOT NULL`: used to disallow NULLs in a column\n",
    "* `FOREIGN KEY REFERENCES table_name(col)`: ensures that values in this column match a column in another table\n",
    "* `DEFAULT value`: used to set a default value for a column if data is not provided for the column when inserting a row\n",
    "* `AUTO_INCREMENT`: used to create a simple ID that is just an integer which increase withe every data row insertion\n",
    "* `CHECK (condition)`: used to add a custom constraint/condition on a column\n",
    "* `GENERATED ALWAYS AS`: used to derive a columns value from data in other columns\n",
    "\n",
    "Note that some of these constraints may also be added after the column definitions. This is necessary if a constraint spans multiple columns:\n",
    "* `PRIMARY KEY (col_1, col_2)`: added after column definitons to add a primary constraint on multiple columns\n",
    "* `UNIQUE (col_1, col_2)`: added after column definitions to ensure that the combination of 2 columns is always unique\n",
    "* `FOREIGN KEY (col_1, col_2) REFERENCES table_name(col_1, col_2)`: added after column definitions to add a foreign key constraint on multiple columns "
   ]
  },
  {
   "cell_type": "markdown",
   "metadata": {},
   "source": [
    "## Creating our table\n",
    "\n",
    "Now that we have all our building blocks, let's create a table!\n",
    "\n",
    "We want the following data to be stored:\n",
    "* The product ID\n",
    "* The product name\n",
    "* The product description\n",
    "* The product price\n",
    "* The stock"
   ]
  },
  {
   "cell_type": "code",
   "execution_count": null,
   "metadata": {},
   "outputs": [],
   "source": [
    "table_def = '''\n",
    "CREATE TABLE products (\n",
    "  ID INT PRIMARY KEY AUTO_INCREMENT,\n",
    "  Name VARCHAR(255) NOT NULL UNIQUE,\n",
    "  Description TEXT,\n",
    "  Price DECIMAL(10, 2) NOT NULL,\n",
    "  Stock Int UNSIGNED \n",
    ");\n",
    "'''\n",
    "\n",
    "cur.execute(table_def)"
   ]
  },
  {
   "cell_type": "markdown",
   "metadata": {},
   "source": [
    "We created our first table, but for now, it is empty:"
   ]
  },
  {
   "cell_type": "code",
   "execution_count": 54,
   "metadata": {},
   "outputs": [
    {
     "name": "stdout",
     "output_type": "stream",
     "text": [
      "+------+-----------+-----------------------------------------------+---------+---------+\n",
      "|   ID | Name      | Description                                   |   Price |   Stock |\n",
      "+======+===========+===============================================+=========+=========+\n",
      "|    1 | product 1 | product 1 is of very high quality             |   12.5  |     100 |\n",
      "+------+-----------+-----------------------------------------------+---------+---------+\n",
      "|    2 | product 2 |                                               |   25    |      25 |\n",
      "+------+-----------+-----------------------------------------------+---------+---------+\n",
      "|    3 | product 3 | An improved version of our popular product 1! |   99.99 |      50 |\n",
      "+------+-----------+-----------------------------------------------+---------+---------+\n"
     ]
    }
   ],
   "source": [
    "cur.execute(\"SELECT * FROM products;\")\n",
    "\n",
    "records = cur.fetchall()\n",
    "\n",
    "# Fetch column names\n",
    "col_names = [desc[0] for desc in cur.description]\n",
    "\n",
    "# Print the records in table format\n",
    "print(tabulate(records, headers=col_names, tablefmt=\"grid\"))"
   ]
  },
  {
   "cell_type": "markdown",
   "metadata": {},
   "source": [
    "## Insert Data\n",
    "\n",
    "We would like to insert data into our table. This can be done using the following syntax\n",
    "```SQL\n",
    "INSERT INTO table_name (col_1, col_2, col_3) VALUES\n",
    "(value_1, value_2, value_3),\n",
    "(value_1, value_2, value_3),\n",
    "(value_1, value_2, value_3),\n",
    "...;\n",
    "```\n",
    "As you can see from the syntax, we can choose what columns to insert data into. When an *incomplete* row is inserted, all the columns not selected are filled in with their default values which are dependent on the data types for the column and the constraints placed on the column "
   ]
  },
  {
   "cell_type": "code",
   "execution_count": 12,
   "metadata": {},
   "outputs": [],
   "source": [
    "insert = '''\n",
    "INSERT INTO products (Name, Description, Price, Stock) VALUES\n",
    "('product 1', 'product 1 is of very high quality', 12.50, 100),\n",
    "('product 2', NULL, 25.00, 25),\n",
    "('product 3', 'An improved version of our popular product 1!', 99.99, 50);\n",
    "'''\n",
    "\n",
    "cur.execute(insert)"
   ]
  },
  {
   "cell_type": "code",
   "execution_count": 29,
   "metadata": {},
   "outputs": [
    {
     "name": "stdout",
     "output_type": "stream",
     "text": [
      "+------+-----------+-----------------------------------------------+---------+---------+\n",
      "|   ID | Name      | Description                                   |   Price |   Stock |\n",
      "+======+===========+===============================================+=========+=========+\n",
      "|    1 | product 1 | product 1 is of very high quality             |   12.5  |     100 |\n",
      "+------+-----------+-----------------------------------------------+---------+---------+\n",
      "|    2 | product 2 |                                               |   25    |      25 |\n",
      "+------+-----------+-----------------------------------------------+---------+---------+\n",
      "|    3 | product 3 | An improved version of our popular product 1! |   99.99 |      50 |\n",
      "+------+-----------+-----------------------------------------------+---------+---------+\n"
     ]
    }
   ],
   "source": [
    "cur.execute(\"SELECT * FROM products;\")\n",
    "\n",
    "records = cur.fetchall()\n",
    "\n",
    "# Fetch column names\n",
    "col_names = [desc[0] for desc in cur.description]\n",
    "\n",
    "# Print the records in table format\n",
    "print(tabulate(records, headers=col_names, tablefmt=\"grid\"))"
   ]
  },
  {
   "cell_type": "markdown",
   "metadata": {},
   "source": [
    "As you can see the products were successfully inserted and the ID was automatically incremented!\n",
    "\n",
    "All the data we inserted satisfied the constraints we put on the columns, but what would happen if we broke a constraint?"
   ]
  },
  {
   "cell_type": "code",
   "execution_count": 16,
   "metadata": {},
   "outputs": [
    {
     "name": "stdout",
     "output_type": "stream",
     "text": [
      "ERROR: 1062 (23000): Duplicate entry 'product 1' for key 'products.Name'\n"
     ]
    }
   ],
   "source": [
    "duplicate_insert = '''\n",
    "INSERT INTO products (Name, Description, Price, Stock) VALUES\n",
    "('product 1', 'this is a duplicate of product 1', 00.00, 0),\n",
    "'''\n",
    "\n",
    "try:\n",
    "  cur.execute(insert)\n",
    "except Exception as exc:\n",
    "  print(f\"ERROR: {exc}\")"
   ]
  },
  {
   "cell_type": "markdown",
   "metadata": {},
   "source": [
    "We correctly run into an error because we insert a second product with the name 'product 1', which is not possible as per our `UNIQUE` constraint placed on the column *name*"
   ]
  },
  {
   "cell_type": "markdown",
   "metadata": {},
   "source": [
    "# Update\n",
    "---\n",
    "\n",
    "There may be times where we want to alter the schema. We want to add or remove a constraint, or add an additional column to store more data.\n",
    "In these case we can make use of the following SQL to do this\n",
    "\n",
    "```SQL\n",
    "ALTER TABLE table_name\n",
    "ADD col_name data_type col_constraint,\n",
    "MODIFY col_name data_type col_constraint,\n",
    "RENAME COLUMN old_col_name TO new_col_name,\n",
    "DROP constraint_name,\n",
    "DROP col_name\n",
    "```"
   ]
  },
  {
   "cell_type": "markdown",
   "metadata": {},
   "source": [
    "Let's imagine that we would like to handle our product IDs differently. Instead of a number, we want to use a 10 character product code.\n",
    "\n",
    "We could do this in two ways:\n",
    "* We can remove the ID column and add a new ID column\n",
    "* We can modify the ID column\n",
    "\n",
    "We can try both out and see what happens"
   ]
  },
  {
   "cell_type": "code",
   "execution_count": 32,
   "metadata": {},
   "outputs": [
    {
     "name": "stdout",
     "output_type": "stream",
     "text": [
      "ERROR: 1062 (23000): Duplicate entry '' for key 'products.PRIMARY'\n"
     ]
    }
   ],
   "source": [
    "alter_table = '''\n",
    "ALTER TABLE products\n",
    "DROP ID,\n",
    "ADD ID CHAR(10)\n",
    "'''\n",
    "\n",
    "try:\n",
    "  cur.execute(alter_table)\n",
    "except Exception as exc:\n",
    "  print(f\"ERROR: {exc}\")"
   ]
  },
  {
   "cell_type": "markdown",
   "metadata": {},
   "source": [
    "The code above threw an error because when removing the ID column and adding it again all rows (now without an ID) are given the empty string as their ID, which violates the `PRIMARY KEY` constraint.\n",
    "\n",
    "Note that dropping the column ID did not remove the `PRIMARY KEY` constraint. Removing constraints, like the `PRIMARY KEY`, has to be done separately"
   ]
  },
  {
   "cell_type": "code",
   "execution_count": 33,
   "metadata": {},
   "outputs": [],
   "source": [
    "alter_table = '''\n",
    "ALTER TABLE products \n",
    "MODIFY ID CHAR(10);\n",
    "'''\n",
    "\n",
    "cur.execute(alter_table)"
   ]
  },
  {
   "cell_type": "markdown",
   "metadata": {},
   "source": [
    "With the code above we were succesfully able to alter the table and changed the type of the column. The data inside the table remains the same as shown below:"
   ]
  },
  {
   "cell_type": "code",
   "execution_count": 55,
   "metadata": {},
   "outputs": [
    {
     "name": "stdout",
     "output_type": "stream",
     "text": [
      "+------+-----------+-----------------------------------------------+---------+---------+\n",
      "|   ID | Name      | Description                                   |   Price |   Stock |\n",
      "+======+===========+===============================================+=========+=========+\n",
      "|    1 | product 1 | product 1 is of very high quality             |   12.5  |     100 |\n",
      "+------+-----------+-----------------------------------------------+---------+---------+\n",
      "|    2 | product 2 |                                               |   25    |      25 |\n",
      "+------+-----------+-----------------------------------------------+---------+---------+\n",
      "|    3 | product 3 | An improved version of our popular product 1! |   99.99 |      50 |\n",
      "+------+-----------+-----------------------------------------------+---------+---------+\n"
     ]
    }
   ],
   "source": [
    "cur.execute(\"SELECT * FROM products;\")\n",
    "\n",
    "records = cur.fetchall()\n",
    "\n",
    "# Fetch column names\n",
    "col_names = [desc[0] for desc in cur.description]\n",
    "\n",
    "# Print the records in table format\n",
    "print(tabulate(records, headers=col_names, tablefmt=\"grid\"))"
   ]
  },
  {
   "cell_type": "markdown",
   "metadata": {},
   "source": [
    "## Updating the Data\n",
    "\n",
    "Now that we altered the table, we would like to change the product IDs of our products to their new 10 character identifiers. For this we utilise the following code:\n",
    "```SQL\n",
    "UPDATE table_name SET\n",
    "col_1 = value_1,\n",
    "col_2 = value_2,\n",
    "...\n",
    "WHERE condition\n",
    "```\n",
    "\n",
    "We can now update our products as follows"
   ]
  },
  {
   "cell_type": "code",
   "execution_count": null,
   "metadata": {},
   "outputs": [
    {
     "ename": "KeyboardInterrupt",
     "evalue": "",
     "output_type": "error",
     "traceback": [
      "\u001b[0;31m---------------------------------------------------------------------------\u001b[0m",
      "\u001b[0;31mKeyboardInterrupt\u001b[0m                         Traceback (most recent call last)",
      "Cell \u001b[0;32mIn[60], line 1\u001b[0m\n\u001b[0;32m----> 1\u001b[0m \u001b[43mcur\u001b[49m\u001b[38;5;241;43m.\u001b[39;49m\u001b[43mexecute\u001b[49m\u001b[43m(\u001b[49m\u001b[38;5;124;43m\"\u001b[39;49m\u001b[38;5;124;43mUPDATE products SET ID = \u001b[39;49m\u001b[38;5;124;43m'\u001b[39;49m\u001b[38;5;124;43mPRD0000001\u001b[39;49m\u001b[38;5;124;43m'\u001b[39;49m\u001b[38;5;124;43m WHERE Name = \u001b[39;49m\u001b[38;5;124;43m'\u001b[39;49m\u001b[38;5;124;43mproduct 1\u001b[39;49m\u001b[38;5;124;43m'\u001b[39;49m\u001b[38;5;124;43m;\u001b[39;49m\u001b[38;5;124;43m\"\u001b[39;49m\u001b[43m)\u001b[49m\n",
      "File \u001b[0;32m/opt/conda/lib/python3.11/site-packages/mysql/connector/cursor.py:572\u001b[0m, in \u001b[0;36mMySQLCursor.execute\u001b[0;34m(self, operation, params, multi)\u001b[0m\n\u001b[1;32m    569\u001b[0m     \u001b[38;5;28;01mreturn\u001b[39;00m \u001b[38;5;28mself\u001b[39m\u001b[38;5;241m.\u001b[39m_execute_iter(\u001b[38;5;28mself\u001b[39m\u001b[38;5;241m.\u001b[39m_connection\u001b[38;5;241m.\u001b[39mcmd_query_iter(stmt))\n\u001b[1;32m    571\u001b[0m \u001b[38;5;28;01mtry\u001b[39;00m:\n\u001b[0;32m--> 572\u001b[0m     \u001b[38;5;28mself\u001b[39m\u001b[38;5;241m.\u001b[39m_handle_result(\u001b[38;5;28;43mself\u001b[39;49m\u001b[38;5;241;43m.\u001b[39;49m\u001b[43m_connection\u001b[49m\u001b[38;5;241;43m.\u001b[39;49m\u001b[43mcmd_query\u001b[49m\u001b[43m(\u001b[49m\u001b[43mstmt\u001b[49m\u001b[43m)\u001b[49m)\n\u001b[1;32m    573\u001b[0m \u001b[38;5;28;01mexcept\u001b[39;00m errors\u001b[38;5;241m.\u001b[39mInterfaceError:\n\u001b[1;32m    574\u001b[0m     \u001b[38;5;28;01mif\u001b[39;00m \u001b[38;5;28mself\u001b[39m\u001b[38;5;241m.\u001b[39m_connection\u001b[38;5;241m.\u001b[39m_have_next_result:  \u001b[38;5;66;03m# pylint: disable=W0212\u001b[39;00m\n",
      "File \u001b[0;32m/opt/conda/lib/python3.11/site-packages/mysql/connector/connection.py:920\u001b[0m, in \u001b[0;36mMySQLConnection.cmd_query\u001b[0;34m(self, query, raw, buffered, raw_as_string)\u001b[0m\n\u001b[1;32m    918\u001b[0m query \u001b[38;5;241m=\u001b[39m \u001b[38;5;28mbytes\u001b[39m(packet)\n\u001b[1;32m    919\u001b[0m \u001b[38;5;28;01mtry\u001b[39;00m:\n\u001b[0;32m--> 920\u001b[0m     result \u001b[38;5;241m=\u001b[39m \u001b[38;5;28mself\u001b[39m\u001b[38;5;241m.\u001b[39m_handle_result(\u001b[38;5;28;43mself\u001b[39;49m\u001b[38;5;241;43m.\u001b[39;49m\u001b[43m_send_cmd\u001b[49m\u001b[43m(\u001b[49m\u001b[43mServerCmd\u001b[49m\u001b[38;5;241;43m.\u001b[39;49m\u001b[43mQUERY\u001b[49m\u001b[43m,\u001b[49m\u001b[43m \u001b[49m\u001b[43mquery\u001b[49m\u001b[43m)\u001b[49m)\n\u001b[1;32m    921\u001b[0m \u001b[38;5;28;01mexcept\u001b[39;00m errors\u001b[38;5;241m.\u001b[39mProgrammingError \u001b[38;5;28;01mas\u001b[39;00m err:\n\u001b[1;32m    922\u001b[0m     \u001b[38;5;28;01mif\u001b[39;00m err\u001b[38;5;241m.\u001b[39merrno \u001b[38;5;241m==\u001b[39m \u001b[38;5;241m3948\u001b[39m \u001b[38;5;129;01mand\u001b[39;00m \\\n\u001b[1;32m    923\u001b[0m        \u001b[38;5;124m\"\u001b[39m\u001b[38;5;124mLoading local data is disabled\u001b[39m\u001b[38;5;124m\"\u001b[39m \u001b[38;5;129;01min\u001b[39;00m err\u001b[38;5;241m.\u001b[39mmsg:\n",
      "File \u001b[0;32m/opt/conda/lib/python3.11/site-packages/mysql/connector/connection.py:575\u001b[0m, in \u001b[0;36mMySQLConnection._send_cmd\u001b[0;34m(self, command, argument, packet_number, packet, expect_response, compressed_packet_number)\u001b[0m\n\u001b[1;32m    573\u001b[0m \u001b[38;5;28;01mif\u001b[39;00m \u001b[38;5;129;01mnot\u001b[39;00m expect_response:\n\u001b[1;32m    574\u001b[0m     \u001b[38;5;28;01mreturn\u001b[39;00m \u001b[38;5;28;01mNone\u001b[39;00m\n\u001b[0;32m--> 575\u001b[0m \u001b[38;5;28;01mreturn\u001b[39;00m \u001b[38;5;28;43mself\u001b[39;49m\u001b[38;5;241;43m.\u001b[39;49m\u001b[43m_socket\u001b[49m\u001b[38;5;241;43m.\u001b[39;49m\u001b[43mrecv\u001b[49m\u001b[43m(\u001b[49m\u001b[43m)\u001b[49m\n",
      "File \u001b[0;32m/opt/conda/lib/python3.11/site-packages/mysql/connector/network.py:246\u001b[0m, in \u001b[0;36mBaseMySQLSocket.recv_plain\u001b[0;34m(self)\u001b[0m\n\u001b[1;32m    244\u001b[0m packet_len \u001b[38;5;241m=\u001b[39m \u001b[38;5;241m0\u001b[39m\n\u001b[1;32m    245\u001b[0m \u001b[38;5;28;01mwhile\u001b[39;00m packet_len \u001b[38;5;241m<\u001b[39m \u001b[38;5;241m4\u001b[39m:\n\u001b[0;32m--> 246\u001b[0m     chunk \u001b[38;5;241m=\u001b[39m \u001b[38;5;28;43mself\u001b[39;49m\u001b[38;5;241;43m.\u001b[39;49m\u001b[43msock\u001b[49m\u001b[38;5;241;43m.\u001b[39;49m\u001b[43mrecv\u001b[49m\u001b[43m(\u001b[49m\u001b[38;5;241;43m4\u001b[39;49m\u001b[43m \u001b[49m\u001b[38;5;241;43m-\u001b[39;49m\u001b[43m \u001b[49m\u001b[43mpacket_len\u001b[49m\u001b[43m)\u001b[49m\n\u001b[1;32m    247\u001b[0m     \u001b[38;5;28;01mif\u001b[39;00m \u001b[38;5;129;01mnot\u001b[39;00m chunk:\n\u001b[1;32m    248\u001b[0m         \u001b[38;5;28;01mraise\u001b[39;00m errors\u001b[38;5;241m.\u001b[39mInterfaceError(errno\u001b[38;5;241m=\u001b[39m\u001b[38;5;241m2013\u001b[39m)\n",
      "File \u001b[0;32m/opt/conda/lib/python3.11/ssl.py:1296\u001b[0m, in \u001b[0;36mSSLSocket.recv\u001b[0;34m(self, buflen, flags)\u001b[0m\n\u001b[1;32m   1292\u001b[0m     \u001b[38;5;28;01mif\u001b[39;00m flags \u001b[38;5;241m!=\u001b[39m \u001b[38;5;241m0\u001b[39m:\n\u001b[1;32m   1293\u001b[0m         \u001b[38;5;28;01mraise\u001b[39;00m \u001b[38;5;167;01mValueError\u001b[39;00m(\n\u001b[1;32m   1294\u001b[0m             \u001b[38;5;124m\"\u001b[39m\u001b[38;5;124mnon-zero flags not allowed in calls to recv() on \u001b[39m\u001b[38;5;132;01m%s\u001b[39;00m\u001b[38;5;124m\"\u001b[39m \u001b[38;5;241m%\u001b[39m\n\u001b[1;32m   1295\u001b[0m             \u001b[38;5;28mself\u001b[39m\u001b[38;5;241m.\u001b[39m\u001b[38;5;18m__class__\u001b[39m)\n\u001b[0;32m-> 1296\u001b[0m     \u001b[38;5;28;01mreturn\u001b[39;00m \u001b[38;5;28;43mself\u001b[39;49m\u001b[38;5;241;43m.\u001b[39;49m\u001b[43mread\u001b[49m\u001b[43m(\u001b[49m\u001b[43mbuflen\u001b[49m\u001b[43m)\u001b[49m\n\u001b[1;32m   1297\u001b[0m \u001b[38;5;28;01melse\u001b[39;00m:\n\u001b[1;32m   1298\u001b[0m     \u001b[38;5;28;01mreturn\u001b[39;00m \u001b[38;5;28msuper\u001b[39m()\u001b[38;5;241m.\u001b[39mrecv(buflen, flags)\n",
      "File \u001b[0;32m/opt/conda/lib/python3.11/ssl.py:1169\u001b[0m, in \u001b[0;36mSSLSocket.read\u001b[0;34m(self, len, buffer)\u001b[0m\n\u001b[1;32m   1167\u001b[0m         \u001b[38;5;28;01mreturn\u001b[39;00m \u001b[38;5;28mself\u001b[39m\u001b[38;5;241m.\u001b[39m_sslobj\u001b[38;5;241m.\u001b[39mread(\u001b[38;5;28mlen\u001b[39m, buffer)\n\u001b[1;32m   1168\u001b[0m     \u001b[38;5;28;01melse\u001b[39;00m:\n\u001b[0;32m-> 1169\u001b[0m         \u001b[38;5;28;01mreturn\u001b[39;00m \u001b[38;5;28;43mself\u001b[39;49m\u001b[38;5;241;43m.\u001b[39;49m\u001b[43m_sslobj\u001b[49m\u001b[38;5;241;43m.\u001b[39;49m\u001b[43mread\u001b[49m\u001b[43m(\u001b[49m\u001b[38;5;28;43mlen\u001b[39;49m\u001b[43m)\u001b[49m\n\u001b[1;32m   1170\u001b[0m \u001b[38;5;28;01mexcept\u001b[39;00m SSLError \u001b[38;5;28;01mas\u001b[39;00m x:\n\u001b[1;32m   1171\u001b[0m     \u001b[38;5;28;01mif\u001b[39;00m x\u001b[38;5;241m.\u001b[39margs[\u001b[38;5;241m0\u001b[39m] \u001b[38;5;241m==\u001b[39m SSL_ERROR_EOF \u001b[38;5;129;01mand\u001b[39;00m \u001b[38;5;28mself\u001b[39m\u001b[38;5;241m.\u001b[39msuppress_ragged_eofs:\n",
      "\u001b[0;31mKeyboardInterrupt\u001b[0m: "
     ]
    }
   ],
   "source": [
    "cur.execute(\"UPDATE products SET ID = 'PRD0000001' WHERE Name = 'product 1';\")\n",
    "cur.execute(\"UPDATE products SET ID = 'PRD0000002' WHERE Name = 'product 2';\")\n",
    "cur.execute(\"UPDATE products SET ID = 'PRD0000003' WHERE Name = 'product 3';\")"
   ]
  },
  {
   "cell_type": "code",
   "execution_count": 59,
   "metadata": {},
   "outputs": [
    {
     "name": "stdout",
     "output_type": "stream",
     "text": [
      "+------+-----------+-----------------------------------------------+---------+---------+\n",
      "|   ID | Name      | Description                                   |   Price |   Stock |\n",
      "+======+===========+===============================================+=========+=========+\n",
      "|    1 | product 1 | product 1 is of very high quality             |   12.5  |     100 |\n",
      "+------+-----------+-----------------------------------------------+---------+---------+\n",
      "|    2 | product 2 |                                               |   25    |      25 |\n",
      "+------+-----------+-----------------------------------------------+---------+---------+\n",
      "|    3 | product 3 | An improved version of our popular product 1! |   99.99 |      50 |\n",
      "+------+-----------+-----------------------------------------------+---------+---------+\n"
     ]
    }
   ],
   "source": [
    "cur.execute(\"SELECT * FROM products;\")\n",
    "\n",
    "records = cur.fetchall()\n",
    "\n",
    "# Fetch column names\n",
    "col_names = [desc[0] for desc in cur.description]\n",
    "\n",
    "# Print the records in table format\n",
    "print(tabulate(records, headers=col_names, tablefmt=\"grid\"))"
   ]
  },
  {
   "cell_type": "markdown",
   "metadata": {},
   "source": [
    "# Delete\n",
    "---\n",
    "\n",
    "It may happen that we want to remove data from our database or maybe even a whole table.\n",
    "\n",
    "In terms of our simple database, we might want to remove a product once we are not able to sell it anymore. To remove a row we can make use of the following SQL:\n",
    "```SQL\n",
    "DELETE FROM table_name WHERE condition;\n",
    "```\n",
    "\n",
    "Let's say that we cannot sell product 2 anymore then we can run the following SQL code"
   ]
  },
  {
   "cell_type": "code",
   "execution_count": 63,
   "metadata": {},
   "outputs": [
    {
     "ename": "KeyboardInterrupt",
     "evalue": "",
     "output_type": "error",
     "traceback": [
      "\u001b[0;31m---------------------------------------------------------------------------\u001b[0m",
      "\u001b[0;31mKeyboardInterrupt\u001b[0m                         Traceback (most recent call last)",
      "Cell \u001b[0;32mIn[63], line 1\u001b[0m\n\u001b[0;32m----> 1\u001b[0m \u001b[43mcur\u001b[49m\u001b[38;5;241;43m.\u001b[39;49m\u001b[43mexecute\u001b[49m\u001b[43m(\u001b[49m\u001b[38;5;124;43m\"\u001b[39;49m\u001b[38;5;124;43mDELETE FROM products WHERE ID = \u001b[39;49m\u001b[38;5;124;43m'\u001b[39;49m\u001b[38;5;124;43mPRD0000002\u001b[39;49m\u001b[38;5;124;43m'\u001b[39;49m\u001b[38;5;124;43m\"\u001b[39;49m\u001b[43m)\u001b[49m\n",
      "File \u001b[0;32m/opt/conda/lib/python3.11/site-packages/mysql/connector/cursor.py:572\u001b[0m, in \u001b[0;36mMySQLCursor.execute\u001b[0;34m(self, operation, params, multi)\u001b[0m\n\u001b[1;32m    569\u001b[0m     \u001b[38;5;28;01mreturn\u001b[39;00m \u001b[38;5;28mself\u001b[39m\u001b[38;5;241m.\u001b[39m_execute_iter(\u001b[38;5;28mself\u001b[39m\u001b[38;5;241m.\u001b[39m_connection\u001b[38;5;241m.\u001b[39mcmd_query_iter(stmt))\n\u001b[1;32m    571\u001b[0m \u001b[38;5;28;01mtry\u001b[39;00m:\n\u001b[0;32m--> 572\u001b[0m     \u001b[38;5;28mself\u001b[39m\u001b[38;5;241m.\u001b[39m_handle_result(\u001b[38;5;28;43mself\u001b[39;49m\u001b[38;5;241;43m.\u001b[39;49m\u001b[43m_connection\u001b[49m\u001b[38;5;241;43m.\u001b[39;49m\u001b[43mcmd_query\u001b[49m\u001b[43m(\u001b[49m\u001b[43mstmt\u001b[49m\u001b[43m)\u001b[49m)\n\u001b[1;32m    573\u001b[0m \u001b[38;5;28;01mexcept\u001b[39;00m errors\u001b[38;5;241m.\u001b[39mInterfaceError:\n\u001b[1;32m    574\u001b[0m     \u001b[38;5;28;01mif\u001b[39;00m \u001b[38;5;28mself\u001b[39m\u001b[38;5;241m.\u001b[39m_connection\u001b[38;5;241m.\u001b[39m_have_next_result:  \u001b[38;5;66;03m# pylint: disable=W0212\u001b[39;00m\n",
      "File \u001b[0;32m/opt/conda/lib/python3.11/site-packages/mysql/connector/connection.py:920\u001b[0m, in \u001b[0;36mMySQLConnection.cmd_query\u001b[0;34m(self, query, raw, buffered, raw_as_string)\u001b[0m\n\u001b[1;32m    918\u001b[0m query \u001b[38;5;241m=\u001b[39m \u001b[38;5;28mbytes\u001b[39m(packet)\n\u001b[1;32m    919\u001b[0m \u001b[38;5;28;01mtry\u001b[39;00m:\n\u001b[0;32m--> 920\u001b[0m     result \u001b[38;5;241m=\u001b[39m \u001b[38;5;28mself\u001b[39m\u001b[38;5;241m.\u001b[39m_handle_result(\u001b[38;5;28;43mself\u001b[39;49m\u001b[38;5;241;43m.\u001b[39;49m\u001b[43m_send_cmd\u001b[49m\u001b[43m(\u001b[49m\u001b[43mServerCmd\u001b[49m\u001b[38;5;241;43m.\u001b[39;49m\u001b[43mQUERY\u001b[49m\u001b[43m,\u001b[49m\u001b[43m \u001b[49m\u001b[43mquery\u001b[49m\u001b[43m)\u001b[49m)\n\u001b[1;32m    921\u001b[0m \u001b[38;5;28;01mexcept\u001b[39;00m errors\u001b[38;5;241m.\u001b[39mProgrammingError \u001b[38;5;28;01mas\u001b[39;00m err:\n\u001b[1;32m    922\u001b[0m     \u001b[38;5;28;01mif\u001b[39;00m err\u001b[38;5;241m.\u001b[39merrno \u001b[38;5;241m==\u001b[39m \u001b[38;5;241m3948\u001b[39m \u001b[38;5;129;01mand\u001b[39;00m \\\n\u001b[1;32m    923\u001b[0m        \u001b[38;5;124m\"\u001b[39m\u001b[38;5;124mLoading local data is disabled\u001b[39m\u001b[38;5;124m\"\u001b[39m \u001b[38;5;129;01min\u001b[39;00m err\u001b[38;5;241m.\u001b[39mmsg:\n",
      "File \u001b[0;32m/opt/conda/lib/python3.11/site-packages/mysql/connector/connection.py:575\u001b[0m, in \u001b[0;36mMySQLConnection._send_cmd\u001b[0;34m(self, command, argument, packet_number, packet, expect_response, compressed_packet_number)\u001b[0m\n\u001b[1;32m    573\u001b[0m \u001b[38;5;28;01mif\u001b[39;00m \u001b[38;5;129;01mnot\u001b[39;00m expect_response:\n\u001b[1;32m    574\u001b[0m     \u001b[38;5;28;01mreturn\u001b[39;00m \u001b[38;5;28;01mNone\u001b[39;00m\n\u001b[0;32m--> 575\u001b[0m \u001b[38;5;28;01mreturn\u001b[39;00m \u001b[38;5;28;43mself\u001b[39;49m\u001b[38;5;241;43m.\u001b[39;49m\u001b[43m_socket\u001b[49m\u001b[38;5;241;43m.\u001b[39;49m\u001b[43mrecv\u001b[49m\u001b[43m(\u001b[49m\u001b[43m)\u001b[49m\n",
      "File \u001b[0;32m/opt/conda/lib/python3.11/site-packages/mysql/connector/network.py:246\u001b[0m, in \u001b[0;36mBaseMySQLSocket.recv_plain\u001b[0;34m(self)\u001b[0m\n\u001b[1;32m    244\u001b[0m packet_len \u001b[38;5;241m=\u001b[39m \u001b[38;5;241m0\u001b[39m\n\u001b[1;32m    245\u001b[0m \u001b[38;5;28;01mwhile\u001b[39;00m packet_len \u001b[38;5;241m<\u001b[39m \u001b[38;5;241m4\u001b[39m:\n\u001b[0;32m--> 246\u001b[0m     chunk \u001b[38;5;241m=\u001b[39m \u001b[38;5;28;43mself\u001b[39;49m\u001b[38;5;241;43m.\u001b[39;49m\u001b[43msock\u001b[49m\u001b[38;5;241;43m.\u001b[39;49m\u001b[43mrecv\u001b[49m\u001b[43m(\u001b[49m\u001b[38;5;241;43m4\u001b[39;49m\u001b[43m \u001b[49m\u001b[38;5;241;43m-\u001b[39;49m\u001b[43m \u001b[49m\u001b[43mpacket_len\u001b[49m\u001b[43m)\u001b[49m\n\u001b[1;32m    247\u001b[0m     \u001b[38;5;28;01mif\u001b[39;00m \u001b[38;5;129;01mnot\u001b[39;00m chunk:\n\u001b[1;32m    248\u001b[0m         \u001b[38;5;28;01mraise\u001b[39;00m errors\u001b[38;5;241m.\u001b[39mInterfaceError(errno\u001b[38;5;241m=\u001b[39m\u001b[38;5;241m2013\u001b[39m)\n",
      "File \u001b[0;32m/opt/conda/lib/python3.11/ssl.py:1296\u001b[0m, in \u001b[0;36mSSLSocket.recv\u001b[0;34m(self, buflen, flags)\u001b[0m\n\u001b[1;32m   1292\u001b[0m     \u001b[38;5;28;01mif\u001b[39;00m flags \u001b[38;5;241m!=\u001b[39m \u001b[38;5;241m0\u001b[39m:\n\u001b[1;32m   1293\u001b[0m         \u001b[38;5;28;01mraise\u001b[39;00m \u001b[38;5;167;01mValueError\u001b[39;00m(\n\u001b[1;32m   1294\u001b[0m             \u001b[38;5;124m\"\u001b[39m\u001b[38;5;124mnon-zero flags not allowed in calls to recv() on \u001b[39m\u001b[38;5;132;01m%s\u001b[39;00m\u001b[38;5;124m\"\u001b[39m \u001b[38;5;241m%\u001b[39m\n\u001b[1;32m   1295\u001b[0m             \u001b[38;5;28mself\u001b[39m\u001b[38;5;241m.\u001b[39m\u001b[38;5;18m__class__\u001b[39m)\n\u001b[0;32m-> 1296\u001b[0m     \u001b[38;5;28;01mreturn\u001b[39;00m \u001b[38;5;28;43mself\u001b[39;49m\u001b[38;5;241;43m.\u001b[39;49m\u001b[43mread\u001b[49m\u001b[43m(\u001b[49m\u001b[43mbuflen\u001b[49m\u001b[43m)\u001b[49m\n\u001b[1;32m   1297\u001b[0m \u001b[38;5;28;01melse\u001b[39;00m:\n\u001b[1;32m   1298\u001b[0m     \u001b[38;5;28;01mreturn\u001b[39;00m \u001b[38;5;28msuper\u001b[39m()\u001b[38;5;241m.\u001b[39mrecv(buflen, flags)\n",
      "File \u001b[0;32m/opt/conda/lib/python3.11/ssl.py:1169\u001b[0m, in \u001b[0;36mSSLSocket.read\u001b[0;34m(self, len, buffer)\u001b[0m\n\u001b[1;32m   1167\u001b[0m         \u001b[38;5;28;01mreturn\u001b[39;00m \u001b[38;5;28mself\u001b[39m\u001b[38;5;241m.\u001b[39m_sslobj\u001b[38;5;241m.\u001b[39mread(\u001b[38;5;28mlen\u001b[39m, buffer)\n\u001b[1;32m   1168\u001b[0m     \u001b[38;5;28;01melse\u001b[39;00m:\n\u001b[0;32m-> 1169\u001b[0m         \u001b[38;5;28;01mreturn\u001b[39;00m \u001b[38;5;28;43mself\u001b[39;49m\u001b[38;5;241;43m.\u001b[39;49m\u001b[43m_sslobj\u001b[49m\u001b[38;5;241;43m.\u001b[39;49m\u001b[43mread\u001b[49m\u001b[43m(\u001b[49m\u001b[38;5;28;43mlen\u001b[39;49m\u001b[43m)\u001b[49m\n\u001b[1;32m   1170\u001b[0m \u001b[38;5;28;01mexcept\u001b[39;00m SSLError \u001b[38;5;28;01mas\u001b[39;00m x:\n\u001b[1;32m   1171\u001b[0m     \u001b[38;5;28;01mif\u001b[39;00m x\u001b[38;5;241m.\u001b[39margs[\u001b[38;5;241m0\u001b[39m] \u001b[38;5;241m==\u001b[39m SSL_ERROR_EOF \u001b[38;5;129;01mand\u001b[39;00m \u001b[38;5;28mself\u001b[39m\u001b[38;5;241m.\u001b[39msuppress_ragged_eofs:\n",
      "\u001b[0;31mKeyboardInterrupt\u001b[0m: "
     ]
    }
   ],
   "source": [
    "cur.execute(\"DELETE FROM products WHERE ID = 'PRD0000002'\")"
   ]
  },
  {
   "cell_type": "markdown",
   "metadata": {},
   "source": [
    "As you can see below, product 2 was removed from the table:"
   ]
  },
  {
   "cell_type": "code",
   "execution_count": null,
   "metadata": {},
   "outputs": [],
   "source": [
    "cur.execute(\"SELECT * FROM products;\")\n",
    "\n",
    "records = cur.fetchall()\n",
    "\n",
    "# Fetch column names\n",
    "col_names = [desc[0] for desc in cur.description]\n",
    "\n",
    "# Print the records in table format\n",
    "print(tabulate(records, headers=col_names, tablefmt=\"grid\"))"
   ]
  },
  {
   "cell_type": "markdown",
   "metadata": {},
   "source": [
    "Now that we are not selling product 2 anymore, our most popular product, the webshop unfortunately went out of business and we want to clean it up.\n",
    "\n",
    "What we can do first is remove all the data in our table using the `TRUNCATE` keyword as follows:"
   ]
  },
  {
   "cell_type": "code",
   "execution_count": null,
   "metadata": {},
   "outputs": [],
   "source": [
    "cur.execute(\"TRUNCATE products;\")"
   ]
  },
  {
   "cell_type": "markdown",
   "metadata": {},
   "source": [
    "As can be seen below, all data was removed from the table"
   ]
  },
  {
   "cell_type": "code",
   "execution_count": 64,
   "metadata": {},
   "outputs": [
    {
     "ename": "DatabaseError",
     "evalue": "1205 (HY000): Lock wait timeout exceeded; try restarting transaction",
     "output_type": "error",
     "traceback": [
      "\u001b[0;31m---------------------------------------------------------------------------\u001b[0m",
      "\u001b[0;31mDatabaseError\u001b[0m                             Traceback (most recent call last)",
      "Cell \u001b[0;32mIn[64], line 1\u001b[0m\n\u001b[0;32m----> 1\u001b[0m \u001b[43mcur\u001b[49m\u001b[38;5;241;43m.\u001b[39;49m\u001b[43mexecute\u001b[49m\u001b[43m(\u001b[49m\u001b[38;5;124;43m\"\u001b[39;49m\u001b[38;5;124;43mSELECT * FROM products;\u001b[39;49m\u001b[38;5;124;43m\"\u001b[39;49m\u001b[43m)\u001b[49m\n\u001b[1;32m      3\u001b[0m records \u001b[38;5;241m=\u001b[39m cur\u001b[38;5;241m.\u001b[39mfetchall()\n\u001b[1;32m      5\u001b[0m \u001b[38;5;66;03m# Fetch column names\u001b[39;00m\n",
      "File \u001b[0;32m/opt/conda/lib/python3.11/site-packages/mysql/connector/cursor.py:572\u001b[0m, in \u001b[0;36mMySQLCursor.execute\u001b[0;34m(self, operation, params, multi)\u001b[0m\n\u001b[1;32m    569\u001b[0m     \u001b[38;5;28;01mreturn\u001b[39;00m \u001b[38;5;28mself\u001b[39m\u001b[38;5;241m.\u001b[39m_execute_iter(\u001b[38;5;28mself\u001b[39m\u001b[38;5;241m.\u001b[39m_connection\u001b[38;5;241m.\u001b[39mcmd_query_iter(stmt))\n\u001b[1;32m    571\u001b[0m \u001b[38;5;28;01mtry\u001b[39;00m:\n\u001b[0;32m--> 572\u001b[0m     \u001b[38;5;28mself\u001b[39m\u001b[38;5;241m.\u001b[39m_handle_result(\u001b[38;5;28;43mself\u001b[39;49m\u001b[38;5;241;43m.\u001b[39;49m\u001b[43m_connection\u001b[49m\u001b[38;5;241;43m.\u001b[39;49m\u001b[43mcmd_query\u001b[49m\u001b[43m(\u001b[49m\u001b[43mstmt\u001b[49m\u001b[43m)\u001b[49m)\n\u001b[1;32m    573\u001b[0m \u001b[38;5;28;01mexcept\u001b[39;00m errors\u001b[38;5;241m.\u001b[39mInterfaceError:\n\u001b[1;32m    574\u001b[0m     \u001b[38;5;28;01mif\u001b[39;00m \u001b[38;5;28mself\u001b[39m\u001b[38;5;241m.\u001b[39m_connection\u001b[38;5;241m.\u001b[39m_have_next_result:  \u001b[38;5;66;03m# pylint: disable=W0212\u001b[39;00m\n",
      "File \u001b[0;32m/opt/conda/lib/python3.11/site-packages/mysql/connector/connection.py:920\u001b[0m, in \u001b[0;36mMySQLConnection.cmd_query\u001b[0;34m(self, query, raw, buffered, raw_as_string)\u001b[0m\n\u001b[1;32m    918\u001b[0m query \u001b[38;5;241m=\u001b[39m \u001b[38;5;28mbytes\u001b[39m(packet)\n\u001b[1;32m    919\u001b[0m \u001b[38;5;28;01mtry\u001b[39;00m:\n\u001b[0;32m--> 920\u001b[0m     result \u001b[38;5;241m=\u001b[39m \u001b[38;5;28;43mself\u001b[39;49m\u001b[38;5;241;43m.\u001b[39;49m\u001b[43m_handle_result\u001b[49m\u001b[43m(\u001b[49m\u001b[38;5;28;43mself\u001b[39;49m\u001b[38;5;241;43m.\u001b[39;49m\u001b[43m_send_cmd\u001b[49m\u001b[43m(\u001b[49m\u001b[43mServerCmd\u001b[49m\u001b[38;5;241;43m.\u001b[39;49m\u001b[43mQUERY\u001b[49m\u001b[43m,\u001b[49m\u001b[43m \u001b[49m\u001b[43mquery\u001b[49m\u001b[43m)\u001b[49m\u001b[43m)\u001b[49m\n\u001b[1;32m    921\u001b[0m \u001b[38;5;28;01mexcept\u001b[39;00m errors\u001b[38;5;241m.\u001b[39mProgrammingError \u001b[38;5;28;01mas\u001b[39;00m err:\n\u001b[1;32m    922\u001b[0m     \u001b[38;5;28;01mif\u001b[39;00m err\u001b[38;5;241m.\u001b[39merrno \u001b[38;5;241m==\u001b[39m \u001b[38;5;241m3948\u001b[39m \u001b[38;5;129;01mand\u001b[39;00m \\\n\u001b[1;32m    923\u001b[0m        \u001b[38;5;124m\"\u001b[39m\u001b[38;5;124mLoading local data is disabled\u001b[39m\u001b[38;5;124m\"\u001b[39m \u001b[38;5;129;01min\u001b[39;00m err\u001b[38;5;241m.\u001b[39mmsg:\n",
      "File \u001b[0;32m/opt/conda/lib/python3.11/site-packages/mysql/connector/connection.py:730\u001b[0m, in \u001b[0;36mMySQLConnection._handle_result\u001b[0;34m(self, packet)\u001b[0m\n\u001b[1;32m    728\u001b[0m     \u001b[38;5;28;01mreturn\u001b[39;00m \u001b[38;5;28mself\u001b[39m\u001b[38;5;241m.\u001b[39m_handle_eof(packet)\n\u001b[1;32m    729\u001b[0m \u001b[38;5;28;01melif\u001b[39;00m packet[\u001b[38;5;241m4\u001b[39m] \u001b[38;5;241m==\u001b[39m \u001b[38;5;241m255\u001b[39m:\n\u001b[0;32m--> 730\u001b[0m     \u001b[38;5;28;01mraise\u001b[39;00m errors\u001b[38;5;241m.\u001b[39mget_exception(packet)\n\u001b[1;32m    732\u001b[0m \u001b[38;5;66;03m# We have a text result set\u001b[39;00m\n\u001b[1;32m    733\u001b[0m column_count \u001b[38;5;241m=\u001b[39m \u001b[38;5;28mself\u001b[39m\u001b[38;5;241m.\u001b[39m_protocol\u001b[38;5;241m.\u001b[39mparse_column_count(packet)\n",
      "\u001b[0;31mDatabaseError\u001b[0m: 1205 (HY000): Lock wait timeout exceeded; try restarting transaction"
     ]
    }
   ],
   "source": [
    "cur.execute(\"SELECT * FROM products;\")\n",
    "\n",
    "records = cur.fetchall()\n",
    "\n",
    "# Fetch column names\n",
    "col_names = [desc[0] for desc in cur.description]\n",
    "\n",
    "# Print the records in table format\n",
    "print(tabulate(records, headers=col_names, tablefmt=\"grid\"))"
   ]
  },
  {
   "cell_type": "markdown",
   "metadata": {},
   "source": [
    "Finally we would like to remove the table itself as well. For this we can make use of the `DROP` keyword as follows"
   ]
  },
  {
   "cell_type": "code",
   "execution_count": null,
   "metadata": {},
   "outputs": [],
   "source": [
    "cur.execute(\"DROP TABLE products;\")"
   ]
  },
  {
   "cell_type": "markdown",
   "metadata": {},
   "source": [
    "To see that the `products` table was removed we can run `SHOW TABLES` again"
   ]
  },
  {
   "cell_type": "code",
   "execution_count": null,
   "metadata": {},
   "outputs": [],
   "source": [
    "cur.execute(\"SHOW TABLES;\")\n",
    "\n",
    "records = cur.fetchall()\n",
    "\n",
    "# Fetch column names\n",
    "col_names = [desc[0] for desc in cur.description]\n",
    "\n",
    "# Print the records in table format\n",
    "print(tabulate(records, headers=col_names, tablefmt=\"grid\"))"
   ]
  }
 ],
 "metadata": {
  "kernelspec": {
   "display_name": "Python 3 (ipykernel)",
   "language": "python",
   "name": "python3"
  },
  "language_info": {
   "codemirror_mode": {
    "name": "ipython",
    "version": 3
   },
   "file_extension": ".py",
   "mimetype": "text/x-python",
   "name": "python",
   "nbconvert_exporter": "python",
   "pygments_lexer": "ipython3",
   "version": "3.11.6"
  }
 },
 "nbformat": 4,
 "nbformat_minor": 4
}
