{
 "cells": [
  {
   "cell_type": "markdown",
   "id": "25a1b98c-5529-4cea-8f3b-c3020b7fa3db",
   "metadata": {},
   "source": [
    "# SQL III - View\n",
    "## 1. Introduction\n",
    "### What is a View?\n",
    "A view is a reusable virtual table that is created by querying existing tables. The virtual table is not saved in memory. Instead, the query used for the view is saved with the name. Each time the view is used, a new query of that view is being executed. \n",
    "\n",
    "---\n",
    "\n",
    "### Why Are Views Important?\n",
    "- **Privacy**: views can limit the information shared by taking a subset of information from full tables\n",
    "- **Reusability**: can make repetitive queries easier to write\n",
    "- **Generalization**: can combine different sub categories into a larger category\n",
    "\n",
    "---\n",
    "\n",
    "### Normal Views vs Materialized Views\n",
    "While normal views do not store the result of a query, materialized views store the results of a query into memory. This has the benefit of increasing the speed of data retrieval but at the cost of memory space and overhead from maintaining data consistency. "
   ]
  },
  {
   "cell_type": "markdown",
   "id": "c7fc6d02-a1b0-4b71-8987-3d973dca7453",
   "metadata": {},
   "source": [
    "### Setup"
   ]
  },
  {
   "cell_type": "code",
   "execution_count": 8,
   "id": "3c7860ef-125a-444c-abba-7aa6572fa995",
   "metadata": {},
   "outputs": [],
   "source": [
    "# Imports\n",
    "from tabulate import tabulate\n",
    "import psycopg2\n",
    "import time\n",
    "\n",
    "# Database connection parameters\n",
    "dbname = 'banking_db'\n",
    "user = 'postgres'\n",
    "password = 'postgres'\n",
    "host = 'postgres_db'  # This should be the service name defined in docker-compose.yml\n",
    "port = '5432'  \n",
    "\n",
    "# Establish connection to the PostgreSQL database\n",
    "conn = psycopg2.connect(dbname=dbname, user=user, password=password, host=host, port=port)\n",
    "\n",
    "# Create a cursor object to interact with the database\n",
    "cur = conn.cursor()"
   ]
  },
  {
   "cell_type": "markdown",
   "id": "4d7c0299-a0e7-470a-8a4b-453cdddf0f8b",
   "metadata": {},
   "source": [
    "## 2. Creating Views\n",
    "#### We will be working with 3 tables, **agents**, **customer**, and **contractors**.\n",
    "\n",
    "\n",
    "### 2.1 Privacy \n",
    "#### I want to give access to all employees in my company the name, working area, and phone number of all agents. \n",
    "#### However I don't want to share the agent code and commission. We can achieve this by creating a view. "
   ]
  },
  {
   "cell_type": "code",
   "execution_count": 11,
   "id": "52bac050-b680-4425-90f8-d09a461e6bc7",
   "metadata": {},
   "outputs": [],
   "source": [
    "# Start the transaction\n",
    "cur.execute(\"BEGIN TRANSACTION;\")\n",
    "\n",
    "try: \n",
    "    # Create view\n",
    "    cur.execute(\"\"\"\n",
    "        CREATE VIEW public_agents AS \n",
    "        SELECT agent_name, working_area, phone_no\n",
    "        FROM agents \n",
    "        \"\"\")\n",
    "    \n",
    "    # Commit the transaction to make changes permanent\n",
    "    cur.execute(\"COMMIT;\")\n",
    "    \n",
    "except Exception as e:\n",
    "    # In case of error, rollback transaction\n",
    "    print(f\"Error: {e}\")\n",
    "    cur.execute(\"ROLLBACK;\")"
   ]
  },
  {
   "cell_type": "code",
   "execution_count": 12,
   "id": "09c23115-f6c9-4d00-bf95-1a91e2261d6c",
   "metadata": {},
   "outputs": [
    {
     "name": "stdout",
     "output_type": "stream",
     "text": [
      "+--------------+----------------+--------------+\n",
      "| agent_name   | working_area   | phone_no     |\n",
      "+==============+================+==============+\n",
      "| Ramasundar   | Bangalore      | 077-25814763 |\n",
      "+--------------+----------------+--------------+\n",
      "| Alex         | London         | 075-12458969 |\n",
      "+--------------+----------------+--------------+\n",
      "| Alford       | New York       | 044-25874365 |\n",
      "+--------------+----------------+--------------+\n",
      "| Ravi Kumar   | Bangalore      | 077-45625874 |\n",
      "+--------------+----------------+--------------+\n",
      "| Santakumar   | Chennai        | 007-22388644 |\n",
      "+--------------+----------------+--------------+\n",
      "| Lucida       | San Jose       | 044-52981425 |\n",
      "+--------------+----------------+--------------+\n",
      "| Anderson     | Brisbane       | 045-21447739 |\n",
      "+--------------+----------------+--------------+\n",
      "| Subbarao     | Bangalore      | 077-12346674 |\n",
      "+--------------+----------------+--------------+\n",
      "| Mukesh       | Mumbai         | 029-12358964 |\n",
      "+--------------+----------------+--------------+\n",
      "| McDen        | London         | 078-22255588 |\n",
      "+--------------+----------------+--------------+\n",
      "| Ivan         | Toronto        | 008-22544166 |\n",
      "+--------------+----------------+--------------+\n",
      "| Benjamin     | Hampshair      | 008-22536178 |\n",
      "+--------------+----------------+--------------+\n"
     ]
    }
   ],
   "source": [
    "# Query to fetch records from the accounts table\n",
    "cur.execute(\"SELECT * FROM public_agents\")\n",
    "\n",
    "# Fetch all records from the result\n",
    "records = cur.fetchall()\n",
    "\n",
    "# Fetch column names\n",
    "col_names = [desc[0] for desc in cur.description]\n",
    "\n",
    "# Print the records in table format\n",
    "print(tabulate(records, headers=col_names, tablefmt=\"grid\"))"
   ]
  },
  {
   "cell_type": "markdown",
   "id": "6c49f2f1-2031-466b-a0bb-74c851b09bf8",
   "metadata": {},
   "source": [
    "#### Employees can now be given access to the view **public_employees** without sharing sensitive information. \n",
    "--- \n",
    "### 2.2 Reusability \n",
    "#### I regularly have to make queries on the customers living in the US and India. To do this, I make a custom view that I can reuse for further queries. "
   ]
  },
  {
   "cell_type": "code",
   "execution_count": 13,
   "id": "9b75dfaf-7a04-4825-a427-ca74722486da",
   "metadata": {},
   "outputs": [],
   "source": [
    "# Start the transaction\n",
    "cur.execute(\"BEGIN TRANSACTION;\")\n",
    "\n",
    "# Resets the view\n",
    "# cur.execute(\"DROP VIEW customers_USA_india\")\n",
    "\n",
    "try: \n",
    "    # Create view\n",
    "    cur.execute(\"\"\"\n",
    "        CREATE VIEW customers_USA_india AS \n",
    "        SELECT cust_code, cust_name, cust_city, cust_country, grade, outstanding_amt, agent_code\n",
    "        FROM customer \n",
    "        WHERE CUST_COUNTRY = 'USA' OR CUST_COUNTRY = 'India'\n",
    "        \"\"\")\n",
    "    \n",
    "    # Commit the transaction to make changes permanent\n",
    "    cur.execute(\"COMMIT;\")\n",
    "    \n",
    "except Exception as e:\n",
    "    # In case of error, rollback transaction\n",
    "    print(f\"Error: {e}\")\n",
    "    cur.execute(\"ROLLBACK;\")"
   ]
  },
  {
   "cell_type": "code",
   "execution_count": 14,
   "id": "b2e7ddfa-8d67-49b8-aca7-ce8fab6ef811",
   "metadata": {},
   "outputs": [
    {
     "name": "stdout",
     "output_type": "stream",
     "text": [
      "+-------------+-------------+-------------+----------------+---------+-------------------+--------------+\n",
      "| cust_code   | cust_name   | cust_city   | cust_country   |   grade |   outstanding_amt | agent_code   |\n",
      "+=============+=============+=============+================+=========+===================+==============+\n",
      "| C00001      | Micheal     | New York    | USA            |       2 |              6000 | A008         |\n",
      "+-------------+-------------+-------------+----------------+---------+-------------------+--------------+\n",
      "| C00020      | Albert      | New York    | USA            |       3 |              6000 | A008         |\n",
      "+-------------+-------------+-------------+----------------+---------+-------------------+--------------+\n",
      "| C00025      | Ravindran   | Bangalore   | India          |       2 |              8000 | A011         |\n",
      "+-------------+-------------+-------------+----------------+---------+-------------------+--------------+\n",
      "| C00002      | Bolt        | New York    | USA            |       3 |              3000 | A008         |\n",
      "+-------------+-------------+-------------+----------------+---------+-------------------+--------------+\n",
      "| C00019      | Yearannaidu | Chennai     | India          |       1 |              8000 | A010         |\n",
      "+-------------+-------------+-------------+----------------+---------+-------------------+--------------+\n",
      "| C00005      | Sasikant    | Mumbai      | India          |       1 |             11000 | A002         |\n",
      "+-------------+-------------+-------------+----------------+---------+-------------------+--------------+\n",
      "| C00007      | Ramanathan  | Chennai     | India          |       1 |              9000 | A010         |\n",
      "+-------------+-------------+-------------+----------------+---------+-------------------+--------------+\n",
      "| C00022      | Avinash     | Mumbai      | India          |       2 |              9000 | A002         |\n",
      "+-------------+-------------+-------------+----------------+---------+-------------------+--------------+\n",
      "| C00017      | Srinivas    | Bangalore   | India          |       2 |              9000 | A007         |\n",
      "+-------------+-------------+-------------+----------------+---------+-------------------+--------------+\n",
      "| C00012      | Steven      | San Jose    | USA            |       1 |              3000 | A012         |\n",
      "+-------------+-------------+-------------+----------------+---------+-------------------+--------------+\n",
      "| C00009      | Ramesh      | Mumbai      | India          |       3 |             12000 | A002         |\n",
      "+-------------+-------------+-------------+----------------+---------+-------------------+--------------+\n",
      "| C00014      | Rangarappa  | Bangalore   | India          |       2 |             12000 | A001         |\n",
      "+-------------+-------------+-------------+----------------+---------+-------------------+--------------+\n",
      "| C00016      | Venkatpati  | Bangalore   | India          |       2 |             12000 | A007         |\n",
      "+-------------+-------------+-------------+----------------+---------+-------------------+--------------+\n",
      "| C00011      | Sundariya   | Chennai     | India          |       3 |             11000 | A010         |\n",
      "+-------------+-------------+-------------+----------------+---------+-------------------+--------------+\n"
     ]
    }
   ],
   "source": [
    "# Query to fetch records\n",
    "cur.execute(\"SELECT * FROM customers_USA_india\")\n",
    "\n",
    "# Fetch all records from the result\n",
    "records = cur.fetchall()\n",
    "\n",
    "# Fetch column names\n",
    "col_names = [desc[0] for desc in cur.description]\n",
    "\n",
    "# Print the records in table format\n",
    "print(tabulate(records, headers=col_names, tablefmt=\"grid\"))"
   ]
  },
  {
   "cell_type": "markdown",
   "id": "96caa390-5fbc-4db8-81bc-f9182271c9e7",
   "metadata": {},
   "source": [
    "#### Now that I have created my view, I can query it just like any table. For example, let's say that I want to find customers with a grade greater or equal to 2. "
   ]
  },
  {
   "cell_type": "code",
   "execution_count": 15,
   "id": "7dce5f74-cac2-4854-9f20-41b4d6f29a05",
   "metadata": {},
   "outputs": [
    {
     "name": "stdout",
     "output_type": "stream",
     "text": [
      "+-------------+-------------+-------------+----------------+---------+-------------------+--------------+\n",
      "| cust_code   | cust_name   | cust_city   | cust_country   |   grade |   outstanding_amt | agent_code   |\n",
      "+=============+=============+=============+================+=========+===================+==============+\n",
      "| C00001      | Micheal     | New York    | USA            |       2 |              6000 | A008         |\n",
      "+-------------+-------------+-------------+----------------+---------+-------------------+--------------+\n",
      "| C00020      | Albert      | New York    | USA            |       3 |              6000 | A008         |\n",
      "+-------------+-------------+-------------+----------------+---------+-------------------+--------------+\n",
      "| C00025      | Ravindran   | Bangalore   | India          |       2 |              8000 | A011         |\n",
      "+-------------+-------------+-------------+----------------+---------+-------------------+--------------+\n",
      "| C00002      | Bolt        | New York    | USA            |       3 |              3000 | A008         |\n",
      "+-------------+-------------+-------------+----------------+---------+-------------------+--------------+\n",
      "| C00022      | Avinash     | Mumbai      | India          |       2 |              9000 | A002         |\n",
      "+-------------+-------------+-------------+----------------+---------+-------------------+--------------+\n",
      "| C00017      | Srinivas    | Bangalore   | India          |       2 |              9000 | A007         |\n",
      "+-------------+-------------+-------------+----------------+---------+-------------------+--------------+\n",
      "| C00009      | Ramesh      | Mumbai      | India          |       3 |             12000 | A002         |\n",
      "+-------------+-------------+-------------+----------------+---------+-------------------+--------------+\n",
      "| C00014      | Rangarappa  | Bangalore   | India          |       2 |             12000 | A001         |\n",
      "+-------------+-------------+-------------+----------------+---------+-------------------+--------------+\n",
      "| C00016      | Venkatpati  | Bangalore   | India          |       2 |             12000 | A007         |\n",
      "+-------------+-------------+-------------+----------------+---------+-------------------+--------------+\n",
      "| C00011      | Sundariya   | Chennai     | India          |       3 |             11000 | A010         |\n",
      "+-------------+-------------+-------------+----------------+---------+-------------------+--------------+\n"
     ]
    }
   ],
   "source": [
    "# Query to fetch records\n",
    "cur.execute(\"\"\"\n",
    "    SELECT * \n",
    "    FROM customers_USA_india\n",
    "    WHERE grade >= 2\n",
    "\"\"\")\n",
    "\n",
    "# Fetch all records from the result\n",
    "records = cur.fetchall()\n",
    "\n",
    "# Fetch column names\n",
    "col_names = [desc[0] for desc in cur.description]\n",
    "\n",
    "# Print the records in table format\n",
    "print(tabulate(records, headers=col_names, tablefmt=\"grid\"))"
   ]
  },
  {
   "cell_type": "markdown",
   "id": "c8c29580-76e8-4a5b-80bc-a486f913c973",
   "metadata": {},
   "source": [
    "#### We can continue querying the same view of the US and India customers. This time I want to check for any customers who have an outstanding balance over 3000 and residing in New York."
   ]
  },
  {
   "cell_type": "code",
   "execution_count": 16,
   "id": "e8643fde-38d5-4d19-97ed-104873c84ea3",
   "metadata": {},
   "outputs": [
    {
     "name": "stdout",
     "output_type": "stream",
     "text": [
      "+-------------+-------------+-------------+----------------+---------+-------------------+--------------+\n",
      "| cust_code   | cust_name   | cust_city   | cust_country   |   grade |   outstanding_amt | agent_code   |\n",
      "+=============+=============+=============+================+=========+===================+==============+\n",
      "| C00001      | Micheal     | New York    | USA            |       2 |              6000 | A008         |\n",
      "+-------------+-------------+-------------+----------------+---------+-------------------+--------------+\n",
      "| C00020      | Albert      | New York    | USA            |       3 |              6000 | A008         |\n",
      "+-------------+-------------+-------------+----------------+---------+-------------------+--------------+\n"
     ]
    }
   ],
   "source": [
    "# Query to fetch records\n",
    "cur.execute(\"\"\"\n",
    "    SELECT * \n",
    "    FROM customers_USA_india\n",
    "    WHERE outstanding_amt > 3000 AND cust_city = 'New York'\n",
    "\"\"\")\n",
    "\n",
    "# Fetch all records from the result\n",
    "records = cur.fetchall()\n",
    "\n",
    "# Fetch column names\n",
    "col_names = [desc[0] for desc in cur.description]\n",
    "\n",
    "# Print the records in table format\n",
    "print(tabulate(records, headers=col_names, tablefmt=\"grid\"))"
   ]
  },
  {
   "cell_type": "markdown",
   "id": "58cbce89-1cff-4028-a25d-506a46eff24b",
   "metadata": {},
   "source": [
    "### 2.3 Generalization\n",
    "#### Generalization can help create views that combine two similar categories into one. In this example, we want to query a table containing both agents and contractors. To do this, we can combine the two tables into one view called **all_employees**. "
   ]
  },
  {
   "cell_type": "code",
   "execution_count": 17,
   "id": "96920ee2-ff16-492d-8f6d-075c09920700",
   "metadata": {},
   "outputs": [],
   "source": [
    "# Start the transaction\n",
    "cur.execute(\"BEGIN TRANSACTION;\")\n",
    "\n",
    "try: \n",
    "    # Create view\n",
    "    cur.execute(\"\"\"\n",
    "        CREATE VIEW all_employees AS \n",
    "        SELECT *\n",
    "        FROM agents\n",
    "        UNION\n",
    "        SELECT * \n",
    "        FROM contractors\n",
    "        \"\"\")\n",
    "    \n",
    "    # Commit the transaction to make changes permanent\n",
    "    cur.execute(\"COMMIT;\")\n",
    "    \n",
    "except Exception as e:\n",
    "    # In case of error, rollback transaction\n",
    "    print(f\"Error: {e}\")\n",
    "    cur.execute(\"ROLLBACK;\")"
   ]
  },
  {
   "cell_type": "code",
   "execution_count": 18,
   "id": "1b5847a0-2e70-4f92-bf37-1fc5b2d4ab51",
   "metadata": {},
   "outputs": [
    {
     "name": "stdout",
     "output_type": "stream",
     "text": [
      "+--------------+--------------+----------------+--------------+--------------+-----------+\n",
      "| agent_code   | agent_name   | working_area   |   commission | phone_no     | country   |\n",
      "+==============+==============+================+==============+==============+===========+\n",
      "| C003         | Liam         | Dublin         |         0.14 | 011-33447076 |           |\n",
      "+--------------+--------------+----------------+--------------+--------------+-----------+\n",
      "| A001         | Subbarao     | Bangalore      |         0.14 | 077-12346674 |           |\n",
      "+--------------+--------------+----------------+--------------+--------------+-----------+\n",
      "| A005         | Anderson     | Brisbane       |         0.13 | 045-21447739 |           |\n",
      "+--------------+--------------+----------------+--------------+--------------+-----------+\n",
      "| A012         | Lucida       | San Jose       |         0.12 | 044-52981425 |           |\n",
      "+--------------+--------------+----------------+--------------+--------------+-----------+\n",
      "| A003         | Alex         | London         |         0.13 | 075-12458969 |           |\n",
      "+--------------+--------------+----------------+--------------+--------------+-----------+\n",
      "| A006         | McDen        | London         |         0.15 | 078-22255588 |           |\n",
      "+--------------+--------------+----------------+--------------+--------------+-----------+\n",
      "| A008         | Alford       | New York       |         0.12 | 044-25874365 |           |\n",
      "+--------------+--------------+----------------+--------------+--------------+-----------+\n",
      "| A002         | Mukesh       | Mumbai         |         0.11 | 029-12358964 |           |\n",
      "+--------------+--------------+----------------+--------------+--------------+-----------+\n",
      "| A011         | Ravi Kumar   | Bangalore      |         0.15 | 077-45625874 |           |\n",
      "+--------------+--------------+----------------+--------------+--------------+-----------+\n",
      "| A007         | Ramasundar   | Bangalore      |         0.15 | 077-25814763 |           |\n",
      "+--------------+--------------+----------------+--------------+--------------+-----------+\n",
      "| C005         | Whitaker     | New York       |         0.18 | 012-58859201 |           |\n",
      "+--------------+--------------+----------------+--------------+--------------+-----------+\n",
      "| C002         | Sarah        | San Francisco  |         0.18 | 032-89790125 |           |\n",
      "+--------------+--------------+----------------+--------------+--------------+-----------+\n",
      "| A010         | Santakumar   | Chennai        |         0.14 | 007-22388644 |           |\n",
      "+--------------+--------------+----------------+--------------+--------------+-----------+\n",
      "| C001         | John         | New York       |         0.17 | 077-11124769 |           |\n",
      "+--------------+--------------+----------------+--------------+--------------+-----------+\n",
      "| C004         | Richard      | Vancouver      |         0.15 | 008-44720826 |           |\n",
      "+--------------+--------------+----------------+--------------+--------------+-----------+\n",
      "| C006         | Lucia        | San Jose       |         0.15 | 032-81027792 |           |\n",
      "+--------------+--------------+----------------+--------------+--------------+-----------+\n",
      "| A004         | Ivan         | Toronto        |         0.15 | 008-22544166 |           |\n",
      "+--------------+--------------+----------------+--------------+--------------+-----------+\n",
      "| A009         | Benjamin     | Hampshair      |         0.11 | 008-22536178 |           |\n",
      "+--------------+--------------+----------------+--------------+--------------+-----------+\n"
     ]
    }
   ],
   "source": [
    "# Query to fetch records \n",
    "cur.execute(\"SELECT * FROM all_employees\")\n",
    "\n",
    "# Fetch all records from the result\n",
    "records = cur.fetchall()\n",
    "\n",
    "# Fetch column names\n",
    "col_names = [desc[0] for desc in cur.description]\n",
    "\n",
    "# Print the records in table format\n",
    "print(tabulate(records, headers=col_names, tablefmt=\"grid\"))"
   ]
  }
 ],
 "metadata": {
  "kernelspec": {
   "display_name": "Python 3 (ipykernel)",
   "language": "python",
   "name": "python3"
  },
  "language_info": {
   "codemirror_mode": {
    "name": "ipython",
    "version": 3
   },
   "file_extension": ".py",
   "mimetype": "text/x-python",
   "name": "python",
   "nbconvert_exporter": "python",
   "pygments_lexer": "ipython3",
   "version": "3.11.6"
  }
 },
 "nbformat": 4,
 "nbformat_minor": 5
}
