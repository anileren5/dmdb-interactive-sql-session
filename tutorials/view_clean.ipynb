{
 "cells": [
  {
   "cell_type": "markdown",
   "id": "25a1b98c-5529-4cea-8f3b-c3020b7fa3db",
   "metadata": {},
   "source": [
    "# SQL III - View\n",
    "## 1. Introduction\n",
    "### What is a View?\n",
    "A view is a reusable virtual table that is created by querying existing tables. The virtual table is not saved in memory. Instead, each time the view is used, the query associated to the view is newly executed. \n",
    "\n",
    "---\n",
    "\n",
    "### Why Are Views Important?\n",
    "- **Privacy**: views can limit the information shared by taking a subset of information from full tables\n",
    "- **Reusability**: can make repetitive queries easier to write\n",
    "- **Generalization**: can combine different sub categories into a larger category\n",
    "\n",
    "---\n",
    "\n",
    "### Updatable Views \n",
    "For a view to be updatable, there must be a one-to-one relationship between the rows in the view and the rows in the underlying data. Therefore a view is updatable if it satisfies the following conditions. \n",
    "\n",
    "- Contains only one base relation\n",
    "- Contains the key of that relation\n",
    "- Does not involve any aggregate (e.g. SUM, MIN, COUNT), group by, or duplicate-elimination (e.g. DISTINCT) operations\n",
    "\n",
    "___\n",
    "\n",
    "### Normal Views vs Materialized Views\n",
    "While normal views do not store the result of a query, materialized views store the results of a query into memory. This has the benefit of increasing the speed of data retrieval but at the cost of memory space and overhead from maintaining data consistency. The following table shows some key differences. \n",
    "\n",
    "| Attribute | Normal View | Materialized View | \n",
    "| --- | --- | --- |\n",
    "| Data Storage | Query expression is saved with the view name. Result is always a snapshot of the state of the database at call time. | Stores the results of the query into physical storage for faster retrieval. | \n",
    "| Performance | Much slower for complex queries | Faster since results are precomputed and stored | \n",
    "| Update Behavior | Reflects the current state of the underlying data. In some cases, possible to update the underlying data from the view. | Can manually or automatically update the stored data of the view when the underlying data changes. Also possible to have a read-only or updateable view that updates the underlying data. | \n",
    "| Use Cases | Best when data is accessed infrequently and requires the most current values. | Best when data is being accessed frequently and performance is critical (e.g. reporting and analytics). | \n",
    "\n",
    "\n",
    "\n",
    "---"
   ]
  },
  {
   "cell_type": "markdown",
   "id": "c7fc6d02-a1b0-4b71-8987-3d973dca7453",
   "metadata": {},
   "source": [
    "### Setup"
   ]
  },
  {
   "cell_type": "code",
   "execution_count": 74,
   "id": "3c7860ef-125a-444c-abba-7aa6572fa995",
   "metadata": {},
   "outputs": [],
   "source": [
    "# Imports\n",
    "from tabulate import tabulate\n",
    "import psycopg2\n",
    "import time\n",
    "\n",
    "# Database connection parameters\n",
    "dbname = 'banking_db'\n",
    "user = 'postgres'\n",
    "password = 'postgres'\n",
    "host = 'postgres_db'  # This should be the service name defined in docker-compose.yml\n",
    "port = '5432'  \n",
    "\n",
    "# Establish connection to the PostgreSQL database\n",
    "conn = psycopg2.connect(dbname=dbname, user=user, password=password, host=host, port=port)\n",
    "\n",
    "# Create a cursor object to interact with the database\n",
    "cur = conn.cursor()"
   ]
  },
  {
   "cell_type": "markdown",
   "id": "03022ee3-fa10-4316-b1d4-3f0ce452bed6",
   "metadata": {},
   "source": [
    "### Reset Views\n",
    "Run the cell below if you want to delete all views. "
   ]
  },
  {
   "cell_type": "code",
   "execution_count": null,
   "id": "70f7d268-3832-4998-a178-0d7f80ff3434",
   "metadata": {},
   "outputs": [],
   "source": [
    "cur.execute(\"BEGIN TRANSACTION;\")\n",
    "\n",
    "try: \n",
    "    # Create view\n",
    "    cur.execute(\"\"\"\n",
    "        DROP VIEW public_agents\n",
    "        \"\"\")\n",
    "    # Commit the transaction to make changes permanent\n",
    "    cur.execute(\"COMMIT;\")\n",
    "    \n",
    "except Exception as e:\n",
    "    # In case of error, rollback transaction\n",
    "    print(f\"Error: {e}\")\n",
    "    cur.execute(\"ROLLBACK;\")\n",
    "\n",
    "cur.execute(\"BEGIN TRANSACTION;\")\n",
    "\n",
    "try: \n",
    "    # Create view\n",
    "    cur.execute(\"\"\"\n",
    "        DROP VIEW customers_ny_toronto\n",
    "        \"\"\")\n",
    "    # Commit the transaction to make changes permanent\n",
    "    cur.execute(\"COMMIT;\")\n",
    "    \n",
    "except Exception as e:\n",
    "    # In case of error, rollback transaction\n",
    "    print(f\"Error: {e}\")\n",
    "    cur.execute(\"ROLLBACK;\")\n",
    "\n",
    "cur.execute(\"BEGIN TRANSACTION;\")\n",
    "\n",
    "try: \n",
    "    # Create view\n",
    "    cur.execute(\"\"\"\n",
    "        DROP VIEW all_employees\n",
    "        \"\"\")\n",
    "    # Commit the transaction to make changes permanent\n",
    "    cur.execute(\"COMMIT;\")\n",
    "    \n",
    "except Exception as e:\n",
    "    # In case of error, rollback transaction\n",
    "    print(f\"Error: {e}\")\n",
    "    cur.execute(\"ROLLBACK;\")"
   ]
  },
  {
   "cell_type": "markdown",
   "id": "4e6788d2-75d1-4e6c-b99e-fcf0bd5d6edf",
   "metadata": {},
   "source": [
    "## 2. Using Views\n",
    "#### We will be working with 3 tables, **sales_agent**, **customers**, and **marketers**."
   ]
  },
  {
   "cell_type": "markdown",
   "id": "b2017b17",
   "metadata": {},
   "source": [
    "<img src=\"view_schema.png\" width=\"800\"/>"
   ]
  },
  {
   "cell_type": "markdown",
   "id": "fa549b10-cd93-4030-9d2b-e66030623e73",
   "metadata": {},
   "source": [
    "### 2.1 Privacy \n",
    "#### I want to give access to all employees in my company the name, working area, and phone number of all sales agents. \n",
    "#### I don't want to share their employee ID and commission. We can achieve this by creating a view. "
   ]
  },
  {
   "cell_type": "code",
   "execution_count": 58,
   "id": "01877f7d-111a-4674-915c-df211c716697",
   "metadata": {},
   "outputs": [],
   "source": [
    "# Start the transaction\n",
    "cur.execute(\"BEGIN TRANSACTION;\")\n",
    "\n",
    "try: \n",
    "    # Create view\n",
    "    cur.execute(\"\"\"\n",
    "        CREATE VIEW public_agents AS \n",
    "        SELECT employee_name, working_area, phone_no\n",
    "        FROM sales_agent\n",
    "        \"\"\")\n",
    "    \n",
    "    # Commit the transaction to make changes permanent\n",
    "    cur.execute(\"COMMIT;\")\n",
    "    \n",
    "except Exception as e:\n",
    "    # In case of error, rollback transaction\n",
    "    print(f\"Error: {e}\")\n",
    "    cur.execute(\"ROLLBACK;\")"
   ]
  },
  {
   "cell_type": "code",
   "execution_count": null,
   "id": "d173e53f-7933-464e-8a18-ee9f1ce03361",
   "metadata": {},
   "outputs": [],
   "source": [
    "# Query to fetch records from the accounts table\n",
    "cur.execute(\"SELECT * FROM public_agents\")\n",
    "\n",
    "# Fetch all records from the result\n",
    "records = cur.fetchall()\n",
    "\n",
    "# Fetch column names\n",
    "col_names = [desc[0] for desc in cur.description]\n",
    "\n",
    "# Print the records in table format\n",
    "print(tabulate(records, headers=col_names, tablefmt=\"grid\"))"
   ]
  },
  {
   "cell_type": "markdown",
   "id": "fd7dbce6-2511-4ec5-b2b1-8541b637bada",
   "metadata": {},
   "source": [
    "#### Employees can now be given access to the view **public_agents** without sharing sensitive information. \n",
    "---"
   ]
  },
  {
   "cell_type": "markdown",
   "id": "6c49f2f1-2031-466b-a0bb-74c851b09bf8",
   "metadata": {},
   "source": [
    "### 2.2 Reusability \n",
    "#### I regularly have to make queries on the customers living in the New York and Toronto. To do this I could use nested queries, where I copy the same subquery every time."
   ]
  },
  {
   "cell_type": "code",
   "execution_count": null,
   "id": "5bfa2f75-dfb7-4a32-915e-f7283e6410d7",
   "metadata": {},
   "outputs": [],
   "source": [
    "# SELECT * \n",
    "# FROM \n",
    "#     (SELECT *\n",
    "#     FROM customers \n",
    "#     WHERE cust_city = 'New York' OR cust_city = 'Toronto') \n",
    "# WHERE ..."
   ]
  },
  {
   "cell_type": "markdown",
   "id": "030e4d1f-15c6-40a1-8df7-0c7c3e490bdc",
   "metadata": {},
   "source": [
    "#### Views make this much easier to write since we can just call the name of the view instead of copy pasting the subquery."
   ]
  },
  {
   "cell_type": "code",
   "execution_count": 9,
   "id": "e45bbfe8-f8fe-46c2-803a-2c3caf1fb62e",
   "metadata": {},
   "outputs": [],
   "source": [
    "# SELECT * \n",
    "# FROM my_view\n",
    "# WHERE ..."
   ]
  },
  {
   "cell_type": "markdown",
   "id": "dad7e4fe-8674-40e1-95b4-e9379b726a57",
   "metadata": {},
   "source": [
    "#### We start by creating the view for the query above. "
   ]
  },
  {
   "cell_type": "code",
   "execution_count": 49,
   "id": "9b75dfaf-7a04-4825-a427-ca74722486da",
   "metadata": {},
   "outputs": [],
   "source": [
    "# Start the transaction\n",
    "cur.execute(\"BEGIN TRANSACTION;\")\n",
    "\n",
    "try: \n",
    "    # Create view\n",
    "    cur.execute(\"\"\"\n",
    "        CREATE VIEW customers_NY_toronto AS \n",
    "        SELECT *\n",
    "        FROM (SELECT c.*, s.employee_name, s.commission\n",
    "              FROM customers c\n",
    "              JOIN sales_agent s\n",
    "              ON c.employee_id = s.employee_id)\n",
    "        WHERE cust_city = 'New York' OR cust_city = 'Toronto'\n",
    "        \"\"\")\n",
    "    \n",
    "    # Commit the transaction to make changes permanent\n",
    "    cur.execute(\"COMMIT;\")\n",
    "    \n",
    "except Exception as e:\n",
    "    # In case of error, rollback transaction\n",
    "    print(f\"Error: {e}\")\n",
    "    cur.execute(\"ROLLBACK;\")"
   ]
  },
  {
   "cell_type": "code",
   "execution_count": null,
   "id": "b2e7ddfa-8d67-49b8-aca7-ce8fab6ef811",
   "metadata": {},
   "outputs": [],
   "source": [
    "# Query to fetch records\n",
    "cur.execute(\"SELECT * FROM customers_NY_toronto\")\n",
    "\n",
    "# Fetch all records from the result\n",
    "records = cur.fetchall()\n",
    "\n",
    "# Fetch column names\n",
    "col_names = [desc[0] for desc in cur.description]\n",
    "\n",
    "# Print the records in table format\n",
    "print(tabulate(records, headers=col_names, tablefmt=\"grid\"))"
   ]
  },
  {
   "cell_type": "markdown",
   "id": "96caa390-5fbc-4db8-81bc-f9182271c9e7",
   "metadata": {},
   "source": [
    "#### Now that I have created my view, I can query it just like any table. For example, let's say that I want to find customers who have paid more than 5000."
   ]
  },
  {
   "cell_type": "code",
   "execution_count": null,
   "id": "7dce5f74-cac2-4854-9f20-41b4d6f29a05",
   "metadata": {},
   "outputs": [],
   "source": [
    "# Query to fetch records\n",
    "cur.execute(\"\"\"\n",
    "    SELECT * \n",
    "    FROM customers_NY_toronto\n",
    "    WHERE payment_amt > 5000\n",
    "\"\"\")\n",
    "\n",
    "# Fetch all records from the result\n",
    "records = cur.fetchall()\n",
    "\n",
    "# Fetch column names\n",
    "col_names = [desc[0] for desc in cur.description]\n",
    "\n",
    "# Print the records in table format\n",
    "print(tabulate(records, headers=col_names, tablefmt=\"grid\"))"
   ]
  },
  {
   "cell_type": "markdown",
   "id": "89b640f6-1a5a-41e7-9e3d-e6bd8828aa71",
   "metadata": {},
   "source": [
    "### 2.3 Updatability \n",
    "#### Now we want to update payment amount of customer C00006 to 12000 by using the customers_ny_toronto view. "
   ]
  },
  {
   "cell_type": "code",
   "execution_count": null,
   "id": "84251ac1-7390-4208-b6c9-55f17f3bfd99",
   "metadata": {},
   "outputs": [],
   "source": [
    "# Start the transaction\n",
    "cur.execute(\"BEGIN TRANSACTION;\")\n",
    "\n",
    "try: \n",
    "    # Create view\n",
    "    cur.execute(\"\"\"\n",
    "        UPDATE customers_NY_toronto\n",
    "        SET payment_amt = 12000\n",
    "        WHERE cust_id = 'C00006';\n",
    "        \"\"\")\n",
    "    \n",
    "    # Commit the transaction to make changes permanent\n",
    "    cur.execute(\"COMMIT;\")\n",
    "    \n",
    "except Exception as e:\n",
    "    # In case of error, rollback transaction\n",
    "    print(f\"Error: {e}\")\n",
    "    cur.execute(\"ROLLBACK;\")"
   ]
  },
  {
   "cell_type": "code",
   "execution_count": null,
   "id": "038ccc53-1ea9-4ab9-9d9a-1b0164c7f0a9",
   "metadata": {},
   "outputs": [],
   "source": [
    "# Start the transaction\n",
    "cur.execute(\"BEGIN TRANSACTION;\")\n",
    "\n",
    "try: \n",
    "    # Create view\n",
    "    cur.execute(\"\"\"\n",
    "        DELETE FROM customers_NY_toronto\n",
    "        WHERE cust_id = 'C00006';\n",
    "        \"\"\")\n",
    "    \n",
    "    # Commit the transaction to make changes permanent\n",
    "    cur.execute(\"COMMIT;\")\n",
    "    \n",
    "except Exception as e:\n",
    "    # In case of error, rollback transaction\n",
    "    print(f\"Error: {e}\")\n",
    "    cur.execute(\"ROLLBACK;\")"
   ]
  },
  {
   "cell_type": "code",
   "execution_count": null,
   "id": "cd09c74b-2808-4d91-a908-9a864076969f",
   "metadata": {},
   "outputs": [],
   "source": [
    "# Start the transaction\n",
    "cur.execute(\"BEGIN TRANSACTION;\")\n",
    "\n",
    "try: \n",
    "    # Create view\n",
    "    cur.execute(\"\"\"\n",
    "        INSERT INTO customers_NY_toronto\n",
    "        VALUES ('C00007', 'Hamish', 'New York', '4000', 'A004', 'Ivan', '0.15')\n",
    "        \"\"\")\n",
    "    # Commit the transaction to make changes permanent\n",
    "    cur.execute(\"COMMIT;\")\n",
    "    \n",
    "except Exception as e:\n",
    "    # In case of error, rollback transaction\n",
    "    print(f\"Error: {e}\")\n",
    "    cur.execute(\"ROLLBACK;\")"
   ]
  },
  {
   "cell_type": "markdown",
   "id": "44d1bb30-4601-459b-b154-66dc9bdd1ef1",
   "metadata": {},
   "source": [
    "#### We can not update, delete, or insert a new entry into the **customers_ny_toronto** view because it is based on more than one table.\n",
    "---\n",
    "#### Now we want to change the working city of the sales agent with the name John from our **public_agents** view."
   ]
  },
  {
   "cell_type": "code",
   "execution_count": null,
   "id": "4ea47a16-df6b-4b57-8971-07db1abb31be",
   "metadata": {},
   "outputs": [],
   "source": [
    "# Query to fetch records from the accounts table\n",
    "cur.execute(\"SELECT * FROM public_agents\")\n",
    "\n",
    "# Fetch all records from the result\n",
    "records = cur.fetchall()\n",
    "\n",
    "# Fetch column names\n",
    "col_names = [desc[0] for desc in cur.description]\n",
    "\n",
    "# Print the records in table format\n",
    "print(tabulate(records, headers=col_names, tablefmt=\"grid\"))"
   ]
  },
  {
   "cell_type": "code",
   "execution_count": 64,
   "id": "43f4e141-bc2b-46e5-8481-e2237faf5b36",
   "metadata": {},
   "outputs": [],
   "source": [
    "# Start the transaction\n",
    "cur.execute(\"BEGIN TRANSACTION;\")\n",
    "\n",
    "try: \n",
    "    # Create view\n",
    "    cur.execute(\"\"\"\n",
    "        UPDATE public_agents\n",
    "        SET working_area = 'Zürich'\n",
    "        WHERE employee_name = 'John';\n",
    "        \"\"\")\n",
    "    \n",
    "    # Commit the transaction to make changes permanent\n",
    "    cur.execute(\"COMMIT;\")\n",
    "    \n",
    "except Exception as e:\n",
    "    # In case of error, rollback transaction\n",
    "    print(f\"Error: {e}\")\n",
    "    cur.execute(\"ROLLBACK;\")"
   ]
  },
  {
   "cell_type": "code",
   "execution_count": null,
   "id": "d33d8422-b064-4aa6-a974-24764350d23b",
   "metadata": {},
   "outputs": [],
   "source": [
    "# Query to fetch records from the accounts table\n",
    "cur.execute(\"SELECT * FROM public_agents\")\n",
    "\n",
    "# Fetch all records from the result\n",
    "records = cur.fetchall()\n",
    "\n",
    "# Fetch column names\n",
    "col_names = [desc[0] for desc in cur.description]\n",
    "\n",
    "# Print the records in table format\n",
    "print(tabulate(records, headers=col_names, tablefmt=\"grid\"))"
   ]
  },
  {
   "cell_type": "markdown",
   "id": "07417e3f-ea0d-4039-9e0f-ae15b80f5265",
   "metadata": {},
   "source": [
    "#### We can try updating the underlying table to see how the view changes. Let's delete 'John' from the **sales_agent** table. "
   ]
  },
  {
   "cell_type": "code",
   "execution_count": 72,
   "id": "3c966def-6c9c-4220-bc5d-488716c16abd",
   "metadata": {},
   "outputs": [],
   "source": [
    "# Start the transaction\n",
    "cur.execute(\"BEGIN TRANSACTION;\")\n",
    "\n",
    "try: \n",
    "    # Create view\n",
    "    cur.execute(\"\"\"\n",
    "        DELETE FROM sales_agent CASCADE\n",
    "        WHERE employee_id = 'A001';\n",
    "        \"\"\")\n",
    "    \n",
    "    # Commit the transaction to make changes permanent\n",
    "    cur.execute(\"COMMIT;\")\n",
    "    \n",
    "except Exception as e:\n",
    "    # In case of error, rollback transaction\n",
    "    print(f\"Error: {e}\")\n",
    "    cur.execute(\"ROLLBACK;\")"
   ]
  },
  {
   "cell_type": "code",
   "execution_count": null,
   "id": "4573d96c-de8d-4a0c-9dee-1ebef75e8e7a",
   "metadata": {},
   "outputs": [],
   "source": [
    "# Query to fetch records from the accounts table\n",
    "cur.execute(\"SELECT * FROM public_agents\")\n",
    "\n",
    "# Fetch all records from the result\n",
    "records = cur.fetchall()\n",
    "\n",
    "# Fetch column names\n",
    "col_names = [desc[0] for desc in cur.description]\n",
    "\n",
    "# Print the records in table format\n",
    "print(tabulate(records, headers=col_names, tablefmt=\"grid\"))"
   ]
  },
  {
   "cell_type": "markdown",
   "id": "bb1f182a-3f7a-4216-8a11-e7110d90d603",
   "metadata": {},
   "source": [
    "#### Updating the underlying **sales_agent** table automatically affects the **public_agents** view.\n",
    "---"
   ]
  },
  {
   "cell_type": "markdown",
   "id": "58cbce89-1cff-4028-a25d-506a46eff24b",
   "metadata": {},
   "source": [
    "### 2.4 Generalization\n",
    "#### Generalization can help create views that combine two similar categories into one. In this example, we want to query a table containing both agents and contractors. To do this, we can combine the two tables into one view called **all_employees**. "
   ]
  },
  {
   "cell_type": "code",
   "execution_count": 36,
   "id": "96920ee2-ff16-492d-8f6d-075c09920700",
   "metadata": {},
   "outputs": [],
   "source": [
    "# Start the transaction\n",
    "cur.execute(\"BEGIN TRANSACTION;\")\n",
    "\n",
    "try: \n",
    "    # Create view\n",
    "    cur.execute(\"\"\"\n",
    "        CREATE VIEW all_employees AS \n",
    "        SELECT employee_id, employee_name, working_area, phone_no \n",
    "        FROM sales_agent\n",
    "        UNION\n",
    "        SELECT employee_id, employee_name, working_area, phone_no\n",
    "        FROM marketers\n",
    "        \"\"\")\n",
    "    \n",
    "    # Commit the transaction to make changes permanent\n",
    "    cur.execute(\"COMMIT;\")\n",
    "    \n",
    "except Exception as e:\n",
    "    # In case of error, rollback transaction\n",
    "    print(f\"Error: {e}\")\n",
    "    cur.execute(\"ROLLBACK;\")"
   ]
  },
  {
   "cell_type": "code",
   "execution_count": null,
   "id": "1b5847a0-2e70-4f92-bf37-1fc5b2d4ab51",
   "metadata": {},
   "outputs": [],
   "source": [
    "# Query to fetch records \n",
    "cur.execute(\"SELECT * FROM all_employees\")\n",
    "\n",
    "# Fetch all records from the result\n",
    "records = cur.fetchall()\n",
    "\n",
    "# Fetch column names\n",
    "col_names = [desc[0] for desc in cur.description]\n",
    "\n",
    "# Print the records in table format\n",
    "print(tabulate(records, headers=col_names, tablefmt=\"grid\"))"
   ]
  },
  {
   "cell_type": "markdown",
   "id": "4c4c3253-e848-42df-8c55-ae08a66729b5",
   "metadata": {},
   "source": [
    "---\n",
    "### Run cell below to reset to initial setup"
   ]
  },
  {
   "cell_type": "code",
   "execution_count": null,
   "id": "e5901462-4a02-45c9-be86-76b3dfbcd642",
   "metadata": {},
   "outputs": [],
   "source": [
    "# Delete all tables\n",
    "cur.execute(\"BEGIN TRANSACTION;\")\n",
    "\n",
    "cur.execute(\"\"\"\n",
    "    DROP TABLE IF EXISTS sales_agent CASCADE;\n",
    "    \"\"\")\n",
    "cur.execute(\"\"\"\n",
    "    DROP TABLE IF EXISTS customers CASCADE;\n",
    "    \"\"\")\n",
    "cur.execute(\"\"\"\n",
    "    DROP TABLE IF EXISTS marketers CASCADE;\n",
    "    \"\"\")\n",
    "\n",
    "cur.execute(\"COMMIT;\")\n",
    "\n",
    "# Create tables\n",
    "cur.execute(\"BEGIN TRANSACTION;\")\n",
    "\n",
    "cur.execute(\"\"\"\n",
    "    CREATE TABLE sales_agent(\t\n",
    "        EMPLOYEE_ID char(6) NOT NULL PRIMARY KEY, \n",
    "        EMPLOYEE_NAME char(40), \n",
    "        WORKING_AREA char(35), \n",
    "        COMMISSION numeric(10,2), \n",
    "        PHONE_NO char(15)\n",
    "    );\n",
    "    \"\"\")\n",
    "\n",
    "cur.execute(\"\"\"\n",
    "    INSERT INTO sales_agent \n",
    "    VALUES \n",
    "        ('A001', 'John', 'Bangalore', '0.14', '077-12346674'),\n",
    "        ('A002', 'Mukesh', 'Mumbai', '0.11', '029-12358964'),\n",
    "        ('A003', 'Alex ', 'London', '0.13', '075-12458969'),\n",
    "        ('A004', 'Ivan', 'Toronto', '0.15', '008-22544166'),\n",
    "        ('A005', 'Anderson', 'Brisbane', '0.13', '045-21447739'),\n",
    "        ('A006', 'McDen', 'London', '0.15', '078-22255588'),\n",
    "        ('A007', 'Ramasundar', 'Bangalore', '0.15', '077-25814763'),\n",
    "        ('A008', 'Alford', 'New York', '0.12', '044-25874365'),\n",
    "        ('A009', 'Benjamin', 'Hampshair', '0.11', '008-22536178'),\n",
    "        ('A010', 'Santakumar', 'Chennai', '0.14', '007-22388644'),\n",
    "        ('A011', 'Ravi Kumar', 'Bangalore', '0.15', '077-45625874'),\n",
    "        ('A012', 'Lucida', 'San Jose', '0.12', '044-52981425');\n",
    "    \"\"\")\n",
    "\n",
    "cur.execute(\"\"\"\n",
    "    CREATE TABLE customers(\t\n",
    "        CUST_ID varchar(6) NOT NULL PRIMARY KEY, \n",
    "        CUST_NAME varchar(40) NOT NULL, \n",
    "        CUST_CITY char(35), \n",
    "        PAYMENT_AMT numeric(12,2) NOT NULL, \n",
    "        EMPLOYEE_ID char(6) NOT NULL,\n",
    "        FOREIGN KEY (EMPLOYEE_ID)\n",
    "            REFERENCES sales_agent\n",
    "            ON DELETE CASCADE\n",
    "    ); \n",
    "    \"\"\")\n",
    "\n",
    "cur.execute(\"\"\"\n",
    "    INSERT INTO customers \n",
    "    VALUES \n",
    "        ('C00013', 'Holmes', 'London', '6000.00', 'A003'),\n",
    "        ('C00001', 'Micheal', 'New York', '3000.00', 'A008'),\n",
    "        ('C00020', 'Albert', 'New York', '5000.00', 'A008'),\n",
    "        ('C00025', 'Ravindran', 'Bangalore', '5000.00', 'A011'),\n",
    "        ('C00024', 'Cook', 'London', '4000.00', 'A006'),\n",
    "        ('C00015', 'Stuart', 'London', '6000.00', 'A003'),\n",
    "        ('C00002', 'Bolt', 'New York', '5000.00', 'A008'),\n",
    "        ('C00018', 'Fleming', 'Brisbane', '7000.00', 'A005'),\n",
    "        ('C00021', 'Jacks', 'Brisbane', '7000.00', 'A005'),\n",
    "        ('C00019', 'Yearannaidu', 'Bangalore', '8000.00', 'A010'),\n",
    "        ('C00005', 'Sasikant', 'Dehli','7000.00', 'A002'),\n",
    "        ('C00007', 'Ramanathan', 'Dehli','7000.00', 'A010'),\n",
    "        ('C00022', 'Avinash', 'Mumbai', '7000.00', 'A002'),\n",
    "        ('C00004', 'Winston', 'Brisbane', '5000.00', 'A005'),\n",
    "        ('C00023', 'Karl', 'London', '4000.00', 'A006'),\n",
    "        ('C00006', 'Shilton', 'Toronto', '10000.00', 'A004'),\n",
    "        ('C00010', 'Charles', 'Hampshair', '6000.00', 'A009'),\n",
    "        ('C00017', 'Srinivas', 'Bangalore', '8000.00', 'A007'),\n",
    "        ('C00012', 'Steven', 'San Jose', '5000.00', 'A012'),\n",
    "        ('C00008', 'Karolina', 'Toronto', '7000.00', 'A004'),\n",
    "        ('C00003', 'Martin', 'Toronto', '8000.00', 'A004'),\n",
    "        ('C00009', 'Ramesh', 'Mumbai', '8000.00', 'A002'),\n",
    "        ('C00014', 'Rangarappa', 'Bangalore', '8000.00', 'A001'),\n",
    "        ('C00016', 'Venkatpati', 'Bangalore', '8000.00', 'A007'),\n",
    "        ('C00011', 'Sundariya', 'Chennai', '7000.00', 'A010');\n",
    "    \"\"\")\n",
    "\n",
    "cur.execute(\"\"\"\n",
    "    CREATE TABLE marketers(\t\n",
    "        EMPLOYEE_ID char(6) NOT NULL PRIMARY KEY, \n",
    "        EMPLOYEE_NAME char(40), \n",
    "        WORKING_AREA char(35), \n",
    "        SALARY numeric(10,2), \n",
    "        PHONE_NO char(15)\n",
    "    );\n",
    "    \"\"\")\n",
    "\n",
    "cur.execute(\"\"\"\n",
    "    INSERT INTO marketers \n",
    "    VALUES \n",
    "        ('A013', 'John', 'New York', '50000', '077-11124769'),\n",
    "        ('A014', 'Sarah ', 'San Francisco', '52000', '032-89790125'),\n",
    "        ('A015', 'Liam', 'Dublin', '38000', '011-33447076'),\n",
    "        ('A016', 'Richard', 'Vancouver', '47000', '008-44720826'),\n",
    "        ('A017', 'Whitaker', 'New York', '54000', '012-58859201'),\n",
    "        ('A018', 'Lucia', 'San Jose', '49000', '032-81027792');\n",
    "    \"\"\")\n",
    "\n",
    "cur.execute(\"COMMIT;\")"
   ]
  },
  {
   "cell_type": "code",
   "execution_count": null,
   "id": "8f9459c7-9c49-40db-999b-63b630387497",
   "metadata": {},
   "outputs": [],
   "source": [
    "# Query to fetch records \n",
    "cur.execute(\"SELECT * FROM sales_agent\")\n",
    "\n",
    "# Fetch all records from the result\n",
    "records = cur.fetchall()\n",
    "\n",
    "# Fetch column names\n",
    "col_names = [desc[0] for desc in cur.description]\n",
    "\n",
    "# Print the records in table format\n",
    "print(tabulate(records, headers=col_names, tablefmt=\"grid\"))"
   ]
  }
 ],
 "metadata": {
  "kernelspec": {
   "display_name": "Python 3 (ipykernel)",
   "language": "python",
   "name": "python3"
  },
  "language_info": {
   "codemirror_mode": {
    "name": "ipython",
    "version": 3
   },
   "file_extension": ".py",
   "mimetype": "text/x-python",
   "name": "python",
   "nbconvert_exporter": "python",
   "pygments_lexer": "ipython3",
   "version": "3.11.6"
  }
 },
 "nbformat": 4,
 "nbformat_minor": 5
}
