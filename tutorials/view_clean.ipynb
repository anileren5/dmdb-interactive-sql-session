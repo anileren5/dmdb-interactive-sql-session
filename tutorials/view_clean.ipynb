{
 "cells": [
  {
   "cell_type": "markdown",
   "id": "25a1b98c-5529-4cea-8f3b-c3020b7fa3db",
   "metadata": {},
   "source": [
    "# SQL III - View\n",
    "## 1. Introduction\n",
    "### What is a View?\n",
    "A view is a reusable virtual table that is created by querying existing tables. The virtual table is not saved in memory. Instead, the query used for the view is saved with the name. Each time the view is used, a new query of that view is being executed. \n",
    "\n",
    "---\n",
    "\n",
    "### Why Are Views Important?\n",
    "- **Privacy**: views can limit the information shared by taking a subset of information from full tables\n",
    "- **Reusability**: can make repetitive queries easier to write\n",
    "- **Generalization**: can combine different sub categories into a larger category\n",
    "\n",
    "---\n",
    "\n",
    "### Normal Views vs Materialized Views\n",
    "While normal views do not store the result of a query, materialized views store the results of a query into memory. This has the benefit of increasing the speed of data retrieval but at the cost of memory space and overhead from maintaining data consistency. "
   ]
  },
  {
   "cell_type": "markdown",
   "id": "c7fc6d02-a1b0-4b71-8987-3d973dca7453",
   "metadata": {},
   "source": [
    "### Setup"
   ]
  },
  {
   "cell_type": "code",
   "execution_count": null,
   "id": "3c7860ef-125a-444c-abba-7aa6572fa995",
   "metadata": {},
   "outputs": [],
   "source": [
    "# Imports\n",
    "from tabulate import tabulate\n",
    "import psycopg2\n",
    "import time\n",
    "\n",
    "# Database connection parameters\n",
    "dbname = 'banking_db'\n",
    "user = 'postgres'\n",
    "password = 'postgres'\n",
    "host = 'postgres_db'  # This should be the service name defined in docker-compose.yml\n",
    "port = '5432'  \n",
    "\n",
    "# Establish connection to the PostgreSQL database\n",
    "conn = psycopg2.connect(dbname=dbname, user=user, password=password, host=host, port=port)\n",
    "\n",
    "# Create a cursor object to interact with the database\n",
    "cur = conn.cursor()"
   ]
  },
  {
   "cell_type": "markdown",
   "id": "4d7c0299-a0e7-470a-8a4b-453cdddf0f8b",
   "metadata": {},
   "source": [
    "## 2. Creating Views\n",
    "#### We will be working with 3 tables, **agents**, **customer**, and **contractors**.\n",
    "\n",
    "\n",
    "### 2.1 Privacy \n",
    "#### I want to give access to all employees in my company the name, working area, and phone number of all agents. \n",
    "#### However I don't want to share the agent code and commission. We can achieve this by creating a view. "
   ]
  },
  {
   "cell_type": "code",
   "execution_count": null,
   "id": "52bac050-b680-4425-90f8-d09a461e6bc7",
   "metadata": {},
   "outputs": [],
   "source": [
    "# Start the transaction\n",
    "cur.execute(\"BEGIN TRANSACTION;\")\n",
    "\n",
    "try: \n",
    "    # Create view\n",
    "    cur.execute(\"\"\"\n",
    "        CREATE VIEW public_agents AS \n",
    "        SELECT agent_name, working_area, phone_no\n",
    "        FROM agents \n",
    "        \"\"\")\n",
    "    \n",
    "    # Commit the transaction to make changes permanent\n",
    "    cur.execute(\"COMMIT;\")\n",
    "    \n",
    "except Exception as e:\n",
    "    # In case of error, rollback transaction\n",
    "    print(f\"Error: {e}\")\n",
    "    cur.execute(\"ROLLBACK;\")"
   ]
  },
  {
   "cell_type": "code",
   "execution_count": null,
   "id": "09c23115-f6c9-4d00-bf95-1a91e2261d6c",
   "metadata": {},
   "outputs": [],
   "source": [
    "# Query to fetch records from the accounts table\n",
    "cur.execute(\"SELECT * FROM public_agents\")\n",
    "\n",
    "# Fetch all records from the result\n",
    "records = cur.fetchall()\n",
    "\n",
    "# Fetch column names\n",
    "col_names = [desc[0] for desc in cur.description]\n",
    "\n",
    "# Print the records in table format\n",
    "print(tabulate(records, headers=col_names, tablefmt=\"grid\"))"
   ]
  },
  {
   "cell_type": "markdown",
   "id": "6c49f2f1-2031-466b-a0bb-74c851b09bf8",
   "metadata": {},
   "source": [
    "#### Employees can now be given access to the view **public_employees** without sharing sensitive information. \n",
    "--- \n",
    "### 2.2 Reusability \n",
    "#### I regularly have to make queries on the customers living in the US and India. To do this, I make a custom view that I can reuse for further queries. "
   ]
  },
  {
   "cell_type": "code",
   "execution_count": null,
   "id": "9b75dfaf-7a04-4825-a427-ca74722486da",
   "metadata": {},
   "outputs": [],
   "source": [
    "# Start the transaction\n",
    "cur.execute(\"BEGIN TRANSACTION;\")\n",
    "\n",
    "# Resets the view\n",
    "# cur.execute(\"DROP VIEW customers_USA_india\")\n",
    "\n",
    "try: \n",
    "    # Create view\n",
    "    cur.execute(\"\"\"\n",
    "        CREATE VIEW customers_USA_india AS \n",
    "        SELECT cust_code, cust_name, cust_city, cust_country, grade, outstanding_amt, agent_code\n",
    "        FROM customer \n",
    "        WHERE CUST_COUNTRY = 'USA' OR CUST_COUNTRY = 'India'\n",
    "        \"\"\")\n",
    "    \n",
    "    # Commit the transaction to make changes permanent\n",
    "    cur.execute(\"COMMIT;\")\n",
    "    \n",
    "except Exception as e:\n",
    "    # In case of error, rollback transaction\n",
    "    print(f\"Error: {e}\")\n",
    "    cur.execute(\"ROLLBACK;\")"
   ]
  },
  {
   "cell_type": "code",
   "execution_count": null,
   "id": "b2e7ddfa-8d67-49b8-aca7-ce8fab6ef811",
   "metadata": {},
   "outputs": [],
   "source": [
    "# Query to fetch records\n",
    "cur.execute(\"SELECT * FROM customers_USA_india\")\n",
    "\n",
    "# Fetch all records from the result\n",
    "records = cur.fetchall()\n",
    "\n",
    "# Fetch column names\n",
    "col_names = [desc[0] for desc in cur.description]\n",
    "\n",
    "# Print the records in table format\n",
    "print(tabulate(records, headers=col_names, tablefmt=\"grid\"))"
   ]
  },
  {
   "cell_type": "markdown",
   "id": "96caa390-5fbc-4db8-81bc-f9182271c9e7",
   "metadata": {},
   "source": [
    "#### Now that I have created my view, I can query it just like any table. For example, let's say that I want to find customers with a grade greater or equal to 2. "
   ]
  },
  {
   "cell_type": "code",
   "execution_count": null,
   "id": "7dce5f74-cac2-4854-9f20-41b4d6f29a05",
   "metadata": {},
   "outputs": [],
   "source": [
    "# Query to fetch records\n",
    "cur.execute(\"\"\"\n",
    "    SELECT * \n",
    "    FROM customers_USA_india\n",
    "    WHERE grade >= 2\n",
    "\"\"\")\n",
    "\n",
    "# Fetch all records from the result\n",
    "records = cur.fetchall()\n",
    "\n",
    "# Fetch column names\n",
    "col_names = [desc[0] for desc in cur.description]\n",
    "\n",
    "# Print the records in table format\n",
    "print(tabulate(records, headers=col_names, tablefmt=\"grid\"))"
   ]
  },
  {
   "cell_type": "markdown",
   "id": "c8c29580-76e8-4a5b-80bc-a486f913c973",
   "metadata": {},
   "source": [
    "#### We can continue querying the same view of the US and India customers. This time I want to check for any customers who have an outstanding balance over 3000 and residing in New York."
   ]
  },
  {
   "cell_type": "code",
   "execution_count": null,
   "id": "e8643fde-38d5-4d19-97ed-104873c84ea3",
   "metadata": {},
   "outputs": [],
   "source": [
    "# Query to fetch records\n",
    "cur.execute(\"\"\"\n",
    "    SELECT * \n",
    "    FROM customers_USA_india\n",
    "    WHERE outstanding_amt > 3000 AND cust_city = 'New York'\n",
    "\"\"\")\n",
    "\n",
    "# Fetch all records from the result\n",
    "records = cur.fetchall()\n",
    "\n",
    "# Fetch column names\n",
    "col_names = [desc[0] for desc in cur.description]\n",
    "\n",
    "# Print the records in table format\n",
    "print(tabulate(records, headers=col_names, tablefmt=\"grid\"))"
   ]
  },
  {
   "cell_type": "markdown",
   "id": "58cbce89-1cff-4028-a25d-506a46eff24b",
   "metadata": {},
   "source": [
    "### 2.3 Generalization\n",
    "#### Generalization can help create views that combine two similar categories into one. In this example, we want to query a table containing both agents and contractors. To do this, we can combine the two tables into one view called **all_employees**. "
   ]
  },
  {
   "cell_type": "code",
   "execution_count": null,
   "id": "96920ee2-ff16-492d-8f6d-075c09920700",
   "metadata": {},
   "outputs": [],
   "source": [
    "# Start the transaction\n",
    "cur.execute(\"BEGIN TRANSACTION;\")\n",
    "\n",
    "try: \n",
    "    # Create view\n",
    "    cur.execute(\"\"\"\n",
    "        CREATE VIEW all_employees AS \n",
    "        SELECT *\n",
    "        FROM agents\n",
    "        UNION\n",
    "        SELECT * \n",
    "        FROM contractors\n",
    "        \"\"\")\n",
    "    \n",
    "    # Commit the transaction to make changes permanent\n",
    "    cur.execute(\"COMMIT;\")\n",
    "    \n",
    "except Exception as e:\n",
    "    # In case of error, rollback transaction\n",
    "    print(f\"Error: {e}\")\n",
    "    cur.execute(\"ROLLBACK;\")"
   ]
  },
  {
   "cell_type": "code",
   "execution_count": null,
   "id": "1b5847a0-2e70-4f92-bf37-1fc5b2d4ab51",
   "metadata": {},
   "outputs": [],
   "source": [
    "# Query to fetch records \n",
    "cur.execute(\"SELECT * FROM all_employees\")\n",
    "\n",
    "# Fetch all records from the result\n",
    "records = cur.fetchall()\n",
    "\n",
    "# Fetch column names\n",
    "col_names = [desc[0] for desc in cur.description]\n",
    "\n",
    "# Print the records in table format\n",
    "print(tabulate(records, headers=col_names, tablefmt=\"grid\"))"
   ]
  },
  {
   "cell_type": "markdown",
   "id": "018f5797-1062-4d9c-9b33-461ad320affb",
   "metadata": {},
   "source": [
    "### 3. Updatability \n",
    "####  "
   ]
  }
 ],
 "metadata": {
  "kernelspec": {
   "display_name": "Python 3 (ipykernel)",
   "language": "python",
   "name": "python3"
  },
  "language_info": {
   "codemirror_mode": {
    "name": "ipython",
    "version": 3
   },
   "file_extension": ".py",
   "mimetype": "text/x-python",
   "name": "python",
   "nbconvert_exporter": "python",
   "pygments_lexer": "ipython3",
   "version": "3.11.6"
  }
 },
 "nbformat": 4,
 "nbformat_minor": 5
}
